{
 "cells": [
  {
   "cell_type": "code",
   "execution_count": 40,
   "metadata": {},
   "outputs": [],
   "source": [
    "# mkdir\n",
    "import os\n",
    "os.makedirs('experiment/original/')\n",
    "os.makedirs('experiment/mutants/')\n",
    "os.makedirs('experiment/xml_input/')\n",
    "os.makedirs('experiment/xml_output/')\n",
    "os.makedirs('experiment/tests/')"
   ]
  },
  {
   "cell_type": "code",
   "execution_count": 41,
   "metadata": {},
   "outputs": [],
   "source": [
    "import subprocess\n",
    "import xml.etree.ElementTree as ET"
   ]
  },
  {
   "cell_type": "code",
   "execution_count": 42,
   "metadata": {},
   "outputs": [],
   "source": [
    "# Generate original files\n",
    "with open('data/TransCoder_tokenized_test_set_functions/test.java.shuf.valid.tok', 'r') as f:\n",
    "    data = f.readlines()\n",
    "\n",
    "for item in data:\n",
    "    k_and_v = item.split(' | ', 1)\n",
    "    k, v = k_and_v[0], k_and_v[1]\n",
    "    with open('experiment/original/' + k + '.java', 'w') as f:\n",
    "        f.write(v)"
   ]
  },
  {
   "cell_type": "code",
   "execution_count": 43,
   "metadata": {
    "tags": []
   },
   "outputs": [],
   "source": [
    "# Generate input XML files\n",
    "import IPython\n",
    "for entry in os.scandir('experiment/original'):\n",
    "    print(entry.name)\n",
    "    # Read Java file and srcML it to XML\n",
    "    with open('experiment/xml_input/' + entry.name.split('.')[0] + '.xml', 'w+') as f:\n",
    "        subprocess.run(['srcml', entry.path], stdout=f)\n",
    "    IPython.display.clear_output()"
   ]
  },
  {
   "cell_type": "code",
   "execution_count": 44,
   "metadata": {},
   "outputs": [],
   "source": [
    "# Transformation\n",
    "for entry in os.scandir('experiment/xml_input'):\n",
    "    # Parse into AST\n",
    "    try:\n",
    "        tree = ET.parse(entry.path)\n",
    "    except Exception as e:\n",
    "        print(entry.name)\n",
    "        print(e)\n",
    "        continue\n",
    "    root = tree.getroot()\n",
    "    ns = {'src': 'http://www.srcML.org/srcML/src'}\n",
    "\n",
    "    num_do, num_for, num_if, num_switch, num_while = 0, 0, 0, 0, 0\n",
    "\n",
    "    for elem in root.iter():\n",
    "        for item in elem.findall('src:do', ns):\n",
    "            elem.remove(item)\n",
    "            tree.write('experiment/xml_output/do__' + str(num_do) + '__' + entry.name)\n",
    "            num_do += 1\n",
    "\n",
    "        for item in elem.findall('src:for', ns):\n",
    "            elem.remove(item)\n",
    "            tree.write('experiment/xml_output/for__' + str(num_for) + '__' + entry.name)\n",
    "            num_for += 1\n",
    "        \n",
    "        for item in elem.findall('src:if_stmt', ns):\n",
    "            elem.remove(item)\n",
    "            tree.write('experiment/xml_output/if__' + str(num_if) + '__' + entry.name)\n",
    "            num_if += 1\n",
    "\n",
    "        for item in elem.findall('src:switch', ns):\n",
    "            elem.remove(item)\n",
    "            tree.write('experiment/xml_output/switch__' + str(num_switch) + '__' + entry.name)\n",
    "            num_switch += 1\n",
    "    \n",
    "        for item in elem.findall('src:while', ns):\n",
    "            elem.remove(item)\n",
    "            tree.write('experiment/xml_output/while__' + str(num_while) + '__' + entry.name)\n",
    "            num_while += 1"
   ]
  },
  {
   "cell_type": "code",
   "execution_count": 45,
   "metadata": {},
   "outputs": [],
   "source": [
    "# Output XML files to Java output\n",
    "for entry in os.scandir('experiment/xml_output'):\n",
    "    with open('experiment/mutants/' + entry.name.split('.')[0] + '.java', 'w+') as f:\n",
    "        subprocess.run(['srcml', entry.path], stdout=f)"
   ]
  },
  {
   "cell_type": "code",
   "execution_count": 46,
   "metadata": {},
   "outputs": [],
   "source": [
    "# Translate"
   ]
  },
  {
   "cell_type": "code",
   "execution_count": 33,
   "metadata": {
    "tags": []
   },
   "outputs": [
    {
     "output_type": "execute_result",
     "data": {
      "text/plain": "                                                   key  Computational accuracy\n0    PRIMALITY_TEST_SET_1_INTRODUCTION_AND_SCHOOL_M...                     1.0\n1            FIND_LARGEST_D_IN_ARRAY_SUCH_THAT_A_B_C_D                     0.8\n2    PROGRAM_TO_FIND_REMAINDER_WITHOUT_USING_MODULO...                     1.0\n3                     MODULUS_TWO_FLOAT_DOUBLE_NUMBERS                     1.0\n4                             NUMBER_SUBSTRINGS_STRING                     1.0\n..                                                 ...                     ...\n251         LENGTH_LONGEST_SUB_STRING_CAN_MAKE_REMOVED                     1.0\n252           FIND_PAIR_WITH_GREATEST_PRODUCT_IN_ARRAY                     1.0\n253                                PROGRAM_AREA_SQUARE                     1.0\n254                   FINDING_POWER_PRIME_NUMBER_P_N_1                     1.0\n255  PROGRAM_FIND_SMALLEST_DIFFERENCE_ANGLES_TWO_PA...                     1.0\n\n[256 rows x 2 columns]",
      "text/html": "<div>\n<style scoped>\n    .dataframe tbody tr th:only-of-type {\n        vertical-align: middle;\n    }\n\n    .dataframe tbody tr th {\n        vertical-align: top;\n    }\n\n    .dataframe thead th {\n        text-align: right;\n    }\n</style>\n<table border=\"1\" class=\"dataframe\">\n  <thead>\n    <tr style=\"text-align: right;\">\n      <th></th>\n      <th>key</th>\n      <th>Computational accuracy</th>\n    </tr>\n  </thead>\n  <tbody>\n    <tr>\n      <th>0</th>\n      <td>PRIMALITY_TEST_SET_1_INTRODUCTION_AND_SCHOOL_M...</td>\n      <td>1.0</td>\n    </tr>\n    <tr>\n      <th>1</th>\n      <td>FIND_LARGEST_D_IN_ARRAY_SUCH_THAT_A_B_C_D</td>\n      <td>0.8</td>\n    </tr>\n    <tr>\n      <th>2</th>\n      <td>PROGRAM_TO_FIND_REMAINDER_WITHOUT_USING_MODULO...</td>\n      <td>1.0</td>\n    </tr>\n    <tr>\n      <th>3</th>\n      <td>MODULUS_TWO_FLOAT_DOUBLE_NUMBERS</td>\n      <td>1.0</td>\n    </tr>\n    <tr>\n      <th>4</th>\n      <td>NUMBER_SUBSTRINGS_STRING</td>\n      <td>1.0</td>\n    </tr>\n    <tr>\n      <th>...</th>\n      <td>...</td>\n      <td>...</td>\n    </tr>\n    <tr>\n      <th>251</th>\n      <td>LENGTH_LONGEST_SUB_STRING_CAN_MAKE_REMOVED</td>\n      <td>1.0</td>\n    </tr>\n    <tr>\n      <th>252</th>\n      <td>FIND_PAIR_WITH_GREATEST_PRODUCT_IN_ARRAY</td>\n      <td>1.0</td>\n    </tr>\n    <tr>\n      <th>253</th>\n      <td>PROGRAM_AREA_SQUARE</td>\n      <td>1.0</td>\n    </tr>\n    <tr>\n      <th>254</th>\n      <td>FINDING_POWER_PRIME_NUMBER_P_N_1</td>\n      <td>1.0</td>\n    </tr>\n    <tr>\n      <th>255</th>\n      <td>PROGRAM_FIND_SMALLEST_DIFFERENCE_ANGLES_TWO_PA...</td>\n      <td>1.0</td>\n    </tr>\n  </tbody>\n</table>\n<p>256 rows × 2 columns</p>\n</div>"
     },
     "metadata": {},
     "execution_count": 33
    }
   ],
   "source": [
    "import IPython\n",
    "import pandas as pd\n",
    "import subprocess\n",
    "\n",
    "d = {'key': [], 'Computational accuracy': []}\n",
    "# blocklist = ['for__0__MOVE_ZEROES_END_ARRAY.py', 'if__0__CHECK_IF_A_NUMBER_IS_POWER_OF_ANOTHER_NUMBER.py', 'if__1__MODULUS_TWO_FLOAT_DOUBLE_NUMBERS.py', 'if__0__ALTERNATIVE_SORTING.py', 'if__2__MODULUS_TWO_FLOAT_DOUBLE_NUMBERS.py', 'while__0__COUNT_FACTORIAL_NUMBERS_IN_A_GIVEN_RANGE.py', 'while__1__K_TH_ELEMENT_TWO_SORTED_ARRAYS.py']\n",
    "blocklist = ['SUM_K_TH_GROUP_ODD_POSITIVE_NUMBERS.py', 'ALTERNATIVE_SORTING.py', 'MINIMUM_LENGTH_SUBARRAY_SUM_GREATER_GIVEN_VALUE.py', 'MOVE_ZEROES_END_ARRAY.py', 'NUMBER_IS_DIVISIBLE_BY_29_OR_NOT.py', 'PRINT_WORDS_STRING_REVERSE_ORDER.py', 'NUMBER_TRIANGLES_N_MOVES_1.py', 'MINIMUM_LENGTH_SUBARRAY_SUM_GREATER_GIVEN_VALUE_1.py']\n",
    "\n",
    "for entry in os.scandir('experiment_jp_test/tests'):\n",
    "    if entry.name not in blocklist:\n",
    "        print(entry.name)\n",
    "        out = subprocess.run(['python3', entry.path], capture_output=True).stdout\n",
    "        out = out.decode()\n",
    "        if out:\n",
    "            if out[0] == '#':\n",
    "                unkilled = float(out.split(', ')[0].split(' ')[1])\n",
    "                total = float(out.split(', ')[1].split('\\n')[0])\n",
    "                # mutation_score = (total - unkilled) / total\n",
    "                mutation_score = unkilled / total\n",
    "                \n",
    "                d['key'].append(entry.name.split('.')[0])\n",
    "                d['Computational accuracy'].append(mutation_score)\n",
    "\n",
    "        IPython.display.clear_output()\n",
    "\n",
    "df = pd.DataFrame(data=d)\n",
    "df"
   ]
  },
  {
   "cell_type": "code",
   "execution_count": 34,
   "metadata": {},
   "outputs": [
    {
     "output_type": "execute_result",
     "data": {
      "text/plain": "       Computational accuracy\ncount              405.000000\nmean                 0.770370\nstd                  0.381582\nmin                  0.000000\n25%                  0.600000\n50%                  1.000000\n75%                  1.000000\nmax                  1.000000",
      "text/html": "<div>\n<style scoped>\n    .dataframe tbody tr th:only-of-type {\n        vertical-align: middle;\n    }\n\n    .dataframe tbody tr th {\n        vertical-align: top;\n    }\n\n    .dataframe thead th {\n        text-align: right;\n    }\n</style>\n<table border=\"1\" class=\"dataframe\">\n  <thead>\n    <tr style=\"text-align: right;\">\n      <th></th>\n      <th>Computational accuracy</th>\n    </tr>\n  </thead>\n  <tbody>\n    <tr>\n      <th>count</th>\n      <td>405.000000</td>\n    </tr>\n    <tr>\n      <th>mean</th>\n      <td>0.770370</td>\n    </tr>\n    <tr>\n      <th>std</th>\n      <td>0.381582</td>\n    </tr>\n    <tr>\n      <th>min</th>\n      <td>0.000000</td>\n    </tr>\n    <tr>\n      <th>25%</th>\n      <td>0.600000</td>\n    </tr>\n    <tr>\n      <th>50%</th>\n      <td>1.000000</td>\n    </tr>\n    <tr>\n      <th>75%</th>\n      <td>1.000000</td>\n    </tr>\n    <tr>\n      <th>max</th>\n      <td>1.000000</td>\n    </tr>\n  </tbody>\n</table>\n</div>"
     },
     "metadata": {},
     "execution_count": 34
    }
   ],
   "source": [
    "df3 = pd.concat([df, df2])\n",
    "df3.describe()"
   ]
  },
  {
   "cell_type": "code",
   "execution_count": 16,
   "metadata": {},
   "outputs": [
    {
     "output_type": "execute_result",
     "data": {
      "text/plain": "&lt;matplotlib.axes._subplots.AxesSubplot at 0x7fd5bdc95a30&gt;"
     },
     "metadata": {},
     "execution_count": 16
    },
    {
     "output_type": "display_data",
     "data": {
      "text/plain": "&lt;Figure size 432x288 with 1 Axes&gt;",
      "image/svg+xml": "<?xml version=\"1.0\" encoding=\"utf-8\" standalone=\"no\"?>\n<!DOCTYPE svg PUBLIC \"-//W3C//DTD SVG 1.1//EN\"\n  \"http://www.w3.org/Graphics/SVG/1.1/DTD/svg11.dtd\">\n<!-- Created with matplotlib (https://matplotlib.org/) -->\n<svg height=\"248.518125pt\" version=\"1.1\" viewBox=\"0 0 388.965625 248.518125\" width=\"388.965625pt\" xmlns=\"http://www.w3.org/2000/svg\" xmlns:xlink=\"http://www.w3.org/1999/xlink\">\n <defs>\n  <style type=\"text/css\">\n*{stroke-linecap:butt;stroke-linejoin:round;}\n  </style>\n </defs>\n <g id=\"figure_1\">\n  <g id=\"patch_1\">\n   <path d=\"M 0 248.518125 \nL 388.965625 248.518125 \nL 388.965625 0 \nL 0 0 \nz\n\" style=\"fill:none;\"/>\n  </g>\n  <g id=\"axes_1\">\n   <g id=\"patch_2\">\n    <path d=\"M 46.965625 224.64 \nL 381.765625 224.64 \nL 381.765625 7.2 \nL 46.965625 7.2 \nz\n\" style=\"fill:#ffffff;\"/>\n   </g>\n   <g id=\"patch_3\">\n    <path clip-path=\"url(#p1e93ec638a)\" d=\"M 62.183807 224.64 \nL 92.62017 224.64 \nL 92.62017 199.028693 \nL 62.183807 199.028693 \nz\n\" style=\"fill:#1f77b4;\"/>\n   </g>\n   <g id=\"patch_4\">\n    <path clip-path=\"url(#p1e93ec638a)\" d=\"M 92.62017 224.64 \nL 123.056534 224.64 \nL 123.056534 202.687451 \nL 92.62017 202.687451 \nz\n\" style=\"fill:#1f77b4;\"/>\n   </g>\n   <g id=\"patch_5\">\n    <path clip-path=\"url(#p1e93ec638a)\" d=\"M 123.056534 224.64 \nL 153.492898 224.64 \nL 153.492898 192.442928 \nL 123.056534 192.442928 \nz\n\" style=\"fill:#1f77b4;\"/>\n   </g>\n   <g id=\"patch_6\">\n    <path clip-path=\"url(#p1e93ec638a)\" d=\"M 153.492898 224.64 \nL 183.929261 224.64 \nL 183.929261 224.64 \nL 153.492898 224.64 \nz\n\" style=\"fill:#1f77b4;\"/>\n   </g>\n   <g id=\"patch_7\">\n    <path clip-path=\"url(#p1e93ec638a)\" d=\"M 183.929261 224.64 \nL 214.365625 224.64 \nL 214.365625 188.78417 \nL 183.929261 188.78417 \nz\n\" style=\"fill:#1f77b4;\"/>\n   </g>\n   <g id=\"patch_8\">\n    <path clip-path=\"url(#p1e93ec638a)\" d=\"M 214.365625 224.64 \nL 244.801989 224.64 \nL 244.801989 188.052418 \nL 214.365625 188.052418 \nz\n\" style=\"fill:#1f77b4;\"/>\n   </g>\n   <g id=\"patch_9\">\n    <path clip-path=\"url(#p1e93ec638a)\" d=\"M 244.801989 224.64 \nL 275.238352 224.64 \nL 275.238352 205.614457 \nL 244.801989 205.614457 \nz\n\" style=\"fill:#1f77b4;\"/>\n   </g>\n   <g id=\"patch_10\">\n    <path clip-path=\"url(#p1e93ec638a)\" d=\"M 275.238352 224.64 \nL 305.674716 224.64 \nL 305.674716 223.908248 \nL 275.238352 223.908248 \nz\n\" style=\"fill:#1f77b4;\"/>\n   </g>\n   <g id=\"patch_11\">\n    <path clip-path=\"url(#p1e93ec638a)\" d=\"M 305.674716 224.64 \nL 336.11108 224.64 \nL 336.11108 197.565189 \nL 305.674716 197.565189 \nz\n\" style=\"fill:#1f77b4;\"/>\n   </g>\n   <g id=\"patch_12\">\n    <path clip-path=\"url(#p1e93ec638a)\" d=\"M 336.11108 224.64 \nL 366.547443 224.64 \nL 366.547443 17.554286 \nL 336.11108 17.554286 \nz\n\" style=\"fill:#1f77b4;\"/>\n   </g>\n   <g id=\"matplotlib.axis_1\">\n    <g id=\"xtick_1\">\n     <g id=\"line2d_1\">\n      <defs>\n       <path d=\"M 0 0 \nL 0 3.5 \n\" id=\"m6f94af4354\" style=\"stroke:#000000;stroke-width:0.8;\"/>\n      </defs>\n      <g>\n       <use style=\"stroke:#000000;stroke-width:0.8;\" x=\"62.183807\" xlink:href=\"#m6f94af4354\" y=\"224.64\"/>\n      </g>\n     </g>\n     <g id=\"text_1\">\n      <!-- 0.0 -->\n      <defs>\n       <path d=\"M 31.78125 66.40625 \nQ 24.171875 66.40625 20.328125 58.90625 \nQ 16.5 51.421875 16.5 36.375 \nQ 16.5 21.390625 20.328125 13.890625 \nQ 24.171875 6.390625 31.78125 6.390625 \nQ 39.453125 6.390625 43.28125 13.890625 \nQ 47.125 21.390625 47.125 36.375 \nQ 47.125 51.421875 43.28125 58.90625 \nQ 39.453125 66.40625 31.78125 66.40625 \nz\nM 31.78125 74.21875 \nQ 44.046875 74.21875 50.515625 64.515625 \nQ 56.984375 54.828125 56.984375 36.375 \nQ 56.984375 17.96875 50.515625 8.265625 \nQ 44.046875 -1.421875 31.78125 -1.421875 \nQ 19.53125 -1.421875 13.0625 8.265625 \nQ 6.59375 17.96875 6.59375 36.375 \nQ 6.59375 54.828125 13.0625 64.515625 \nQ 19.53125 74.21875 31.78125 74.21875 \nz\n\" id=\"DejaVuSans-48\"/>\n       <path d=\"M 10.6875 12.40625 \nL 21 12.40625 \nL 21 0 \nL 10.6875 0 \nz\n\" id=\"DejaVuSans-46\"/>\n      </defs>\n      <g transform=\"translate(54.232244 239.238437)scale(0.1 -0.1)\">\n       <use xlink:href=\"#DejaVuSans-48\"/>\n       <use x=\"63.623047\" xlink:href=\"#DejaVuSans-46\"/>\n       <use x=\"95.410156\" xlink:href=\"#DejaVuSans-48\"/>\n      </g>\n     </g>\n    </g>\n    <g id=\"xtick_2\">\n     <g id=\"line2d_2\">\n      <g>\n       <use style=\"stroke:#000000;stroke-width:0.8;\" x=\"123.056534\" xlink:href=\"#m6f94af4354\" y=\"224.64\"/>\n      </g>\n     </g>\n     <g id=\"text_2\">\n      <!-- 0.2 -->\n      <defs>\n       <path d=\"M 19.1875 8.296875 \nL 53.609375 8.296875 \nL 53.609375 0 \nL 7.328125 0 \nL 7.328125 8.296875 \nQ 12.9375 14.109375 22.625 23.890625 \nQ 32.328125 33.6875 34.8125 36.53125 \nQ 39.546875 41.84375 41.421875 45.53125 \nQ 43.3125 49.21875 43.3125 52.78125 \nQ 43.3125 58.59375 39.234375 62.25 \nQ 35.15625 65.921875 28.609375 65.921875 \nQ 23.96875 65.921875 18.8125 64.3125 \nQ 13.671875 62.703125 7.8125 59.421875 \nL 7.8125 69.390625 \nQ 13.765625 71.78125 18.9375 73 \nQ 24.125 74.21875 28.421875 74.21875 \nQ 39.75 74.21875 46.484375 68.546875 \nQ 53.21875 62.890625 53.21875 53.421875 \nQ 53.21875 48.921875 51.53125 44.890625 \nQ 49.859375 40.875 45.40625 35.40625 \nQ 44.1875 33.984375 37.640625 27.21875 \nQ 31.109375 20.453125 19.1875 8.296875 \nz\n\" id=\"DejaVuSans-50\"/>\n      </defs>\n      <g transform=\"translate(115.104972 239.238437)scale(0.1 -0.1)\">\n       <use xlink:href=\"#DejaVuSans-48\"/>\n       <use x=\"63.623047\" xlink:href=\"#DejaVuSans-46\"/>\n       <use x=\"95.410156\" xlink:href=\"#DejaVuSans-50\"/>\n      </g>\n     </g>\n    </g>\n    <g id=\"xtick_3\">\n     <g id=\"line2d_3\">\n      <g>\n       <use style=\"stroke:#000000;stroke-width:0.8;\" x=\"183.929261\" xlink:href=\"#m6f94af4354\" y=\"224.64\"/>\n      </g>\n     </g>\n     <g id=\"text_3\">\n      <!-- 0.4 -->\n      <defs>\n       <path d=\"M 37.796875 64.3125 \nL 12.890625 25.390625 \nL 37.796875 25.390625 \nz\nM 35.203125 72.90625 \nL 47.609375 72.90625 \nL 47.609375 25.390625 \nL 58.015625 25.390625 \nL 58.015625 17.1875 \nL 47.609375 17.1875 \nL 47.609375 0 \nL 37.796875 0 \nL 37.796875 17.1875 \nL 4.890625 17.1875 \nL 4.890625 26.703125 \nz\n\" id=\"DejaVuSans-52\"/>\n      </defs>\n      <g transform=\"translate(175.977699 239.238437)scale(0.1 -0.1)\">\n       <use xlink:href=\"#DejaVuSans-48\"/>\n       <use x=\"63.623047\" xlink:href=\"#DejaVuSans-46\"/>\n       <use x=\"95.410156\" xlink:href=\"#DejaVuSans-52\"/>\n      </g>\n     </g>\n    </g>\n    <g id=\"xtick_4\">\n     <g id=\"line2d_4\">\n      <g>\n       <use style=\"stroke:#000000;stroke-width:0.8;\" x=\"244.801989\" xlink:href=\"#m6f94af4354\" y=\"224.64\"/>\n      </g>\n     </g>\n     <g id=\"text_4\">\n      <!-- 0.6 -->\n      <defs>\n       <path d=\"M 33.015625 40.375 \nQ 26.375 40.375 22.484375 35.828125 \nQ 18.609375 31.296875 18.609375 23.390625 \nQ 18.609375 15.53125 22.484375 10.953125 \nQ 26.375 6.390625 33.015625 6.390625 \nQ 39.65625 6.390625 43.53125 10.953125 \nQ 47.40625 15.53125 47.40625 23.390625 \nQ 47.40625 31.296875 43.53125 35.828125 \nQ 39.65625 40.375 33.015625 40.375 \nz\nM 52.59375 71.296875 \nL 52.59375 62.3125 \nQ 48.875 64.0625 45.09375 64.984375 \nQ 41.3125 65.921875 37.59375 65.921875 \nQ 27.828125 65.921875 22.671875 59.328125 \nQ 17.53125 52.734375 16.796875 39.40625 \nQ 19.671875 43.65625 24.015625 45.921875 \nQ 28.375 48.1875 33.59375 48.1875 \nQ 44.578125 48.1875 50.953125 41.515625 \nQ 57.328125 34.859375 57.328125 23.390625 \nQ 57.328125 12.15625 50.6875 5.359375 \nQ 44.046875 -1.421875 33.015625 -1.421875 \nQ 20.359375 -1.421875 13.671875 8.265625 \nQ 6.984375 17.96875 6.984375 36.375 \nQ 6.984375 53.65625 15.1875 63.9375 \nQ 23.390625 74.21875 37.203125 74.21875 \nQ 40.921875 74.21875 44.703125 73.484375 \nQ 48.484375 72.75 52.59375 71.296875 \nz\n\" id=\"DejaVuSans-54\"/>\n      </defs>\n      <g transform=\"translate(236.850426 239.238437)scale(0.1 -0.1)\">\n       <use xlink:href=\"#DejaVuSans-48\"/>\n       <use x=\"63.623047\" xlink:href=\"#DejaVuSans-46\"/>\n       <use x=\"95.410156\" xlink:href=\"#DejaVuSans-54\"/>\n      </g>\n     </g>\n    </g>\n    <g id=\"xtick_5\">\n     <g id=\"line2d_5\">\n      <g>\n       <use style=\"stroke:#000000;stroke-width:0.8;\" x=\"305.674716\" xlink:href=\"#m6f94af4354\" y=\"224.64\"/>\n      </g>\n     </g>\n     <g id=\"text_5\">\n      <!-- 0.8 -->\n      <defs>\n       <path d=\"M 31.78125 34.625 \nQ 24.75 34.625 20.71875 30.859375 \nQ 16.703125 27.09375 16.703125 20.515625 \nQ 16.703125 13.921875 20.71875 10.15625 \nQ 24.75 6.390625 31.78125 6.390625 \nQ 38.8125 6.390625 42.859375 10.171875 \nQ 46.921875 13.96875 46.921875 20.515625 \nQ 46.921875 27.09375 42.890625 30.859375 \nQ 38.875 34.625 31.78125 34.625 \nz\nM 21.921875 38.8125 \nQ 15.578125 40.375 12.03125 44.71875 \nQ 8.5 49.078125 8.5 55.328125 \nQ 8.5 64.0625 14.71875 69.140625 \nQ 20.953125 74.21875 31.78125 74.21875 \nQ 42.671875 74.21875 48.875 69.140625 \nQ 55.078125 64.0625 55.078125 55.328125 \nQ 55.078125 49.078125 51.53125 44.71875 \nQ 48 40.375 41.703125 38.8125 \nQ 48.828125 37.15625 52.796875 32.3125 \nQ 56.78125 27.484375 56.78125 20.515625 \nQ 56.78125 9.90625 50.3125 4.234375 \nQ 43.84375 -1.421875 31.78125 -1.421875 \nQ 19.734375 -1.421875 13.25 4.234375 \nQ 6.78125 9.90625 6.78125 20.515625 \nQ 6.78125 27.484375 10.78125 32.3125 \nQ 14.796875 37.15625 21.921875 38.8125 \nz\nM 18.3125 54.390625 \nQ 18.3125 48.734375 21.84375 45.5625 \nQ 25.390625 42.390625 31.78125 42.390625 \nQ 38.140625 42.390625 41.71875 45.5625 \nQ 45.3125 48.734375 45.3125 54.390625 \nQ 45.3125 60.0625 41.71875 63.234375 \nQ 38.140625 66.40625 31.78125 66.40625 \nQ 25.390625 66.40625 21.84375 63.234375 \nQ 18.3125 60.0625 18.3125 54.390625 \nz\n\" id=\"DejaVuSans-56\"/>\n      </defs>\n      <g transform=\"translate(297.723153 239.238437)scale(0.1 -0.1)\">\n       <use xlink:href=\"#DejaVuSans-48\"/>\n       <use x=\"63.623047\" xlink:href=\"#DejaVuSans-46\"/>\n       <use x=\"95.410156\" xlink:href=\"#DejaVuSans-56\"/>\n      </g>\n     </g>\n    </g>\n    <g id=\"xtick_6\">\n     <g id=\"line2d_6\">\n      <g>\n       <use style=\"stroke:#000000;stroke-width:0.8;\" x=\"366.547443\" xlink:href=\"#m6f94af4354\" y=\"224.64\"/>\n      </g>\n     </g>\n     <g id=\"text_6\">\n      <!-- 1.0 -->\n      <defs>\n       <path d=\"M 12.40625 8.296875 \nL 28.515625 8.296875 \nL 28.515625 63.921875 \nL 10.984375 60.40625 \nL 10.984375 69.390625 \nL 28.421875 72.90625 \nL 38.28125 72.90625 \nL 38.28125 8.296875 \nL 54.390625 8.296875 \nL 54.390625 0 \nL 12.40625 0 \nz\n\" id=\"DejaVuSans-49\"/>\n      </defs>\n      <g transform=\"translate(358.595881 239.238437)scale(0.1 -0.1)\">\n       <use xlink:href=\"#DejaVuSans-49\"/>\n       <use x=\"63.623047\" xlink:href=\"#DejaVuSans-46\"/>\n       <use x=\"95.410156\" xlink:href=\"#DejaVuSans-48\"/>\n      </g>\n     </g>\n    </g>\n   </g>\n   <g id=\"matplotlib.axis_2\">\n    <g id=\"ytick_1\">\n     <g id=\"line2d_7\">\n      <defs>\n       <path d=\"M 0 0 \nL -3.5 0 \n\" id=\"m5de11c8729\" style=\"stroke:#000000;stroke-width:0.8;\"/>\n      </defs>\n      <g>\n       <use style=\"stroke:#000000;stroke-width:0.8;\" x=\"46.965625\" xlink:href=\"#m5de11c8729\" y=\"224.64\"/>\n      </g>\n     </g>\n     <g id=\"text_7\">\n      <!-- 0 -->\n      <g transform=\"translate(33.603125 228.439219)scale(0.1 -0.1)\">\n       <use xlink:href=\"#DejaVuSans-48\"/>\n      </g>\n     </g>\n    </g>\n    <g id=\"ytick_2\">\n     <g id=\"line2d_8\">\n      <g>\n       <use style=\"stroke:#000000;stroke-width:0.8;\" x=\"46.965625\" xlink:href=\"#m5de11c8729\" y=\"188.052418\"/>\n      </g>\n     </g>\n     <g id=\"text_8\">\n      <!-- 50 -->\n      <defs>\n       <path d=\"M 10.796875 72.90625 \nL 49.515625 72.90625 \nL 49.515625 64.59375 \nL 19.828125 64.59375 \nL 19.828125 46.734375 \nQ 21.96875 47.46875 24.109375 47.828125 \nQ 26.265625 48.1875 28.421875 48.1875 \nQ 40.625 48.1875 47.75 41.5 \nQ 54.890625 34.8125 54.890625 23.390625 \nQ 54.890625 11.625 47.5625 5.09375 \nQ 40.234375 -1.421875 26.90625 -1.421875 \nQ 22.3125 -1.421875 17.546875 -0.640625 \nQ 12.796875 0.140625 7.71875 1.703125 \nL 7.71875 11.625 \nQ 12.109375 9.234375 16.796875 8.0625 \nQ 21.484375 6.890625 26.703125 6.890625 \nQ 35.15625 6.890625 40.078125 11.328125 \nQ 45.015625 15.765625 45.015625 23.390625 \nQ 45.015625 31 40.078125 35.4375 \nQ 35.15625 39.890625 26.703125 39.890625 \nQ 22.75 39.890625 18.8125 39.015625 \nQ 14.890625 38.140625 10.796875 36.28125 \nz\n\" id=\"DejaVuSans-53\"/>\n      </defs>\n      <g transform=\"translate(27.240625 191.851637)scale(0.1 -0.1)\">\n       <use xlink:href=\"#DejaVuSans-53\"/>\n       <use x=\"63.623047\" xlink:href=\"#DejaVuSans-48\"/>\n      </g>\n     </g>\n    </g>\n    <g id=\"ytick_3\">\n     <g id=\"line2d_9\">\n      <g>\n       <use style=\"stroke:#000000;stroke-width:0.8;\" x=\"46.965625\" xlink:href=\"#m5de11c8729\" y=\"151.464836\"/>\n      </g>\n     </g>\n     <g id=\"text_9\">\n      <!-- 100 -->\n      <g transform=\"translate(20.878125 155.264055)scale(0.1 -0.1)\">\n       <use xlink:href=\"#DejaVuSans-49\"/>\n       <use x=\"63.623047\" xlink:href=\"#DejaVuSans-48\"/>\n       <use x=\"127.246094\" xlink:href=\"#DejaVuSans-48\"/>\n      </g>\n     </g>\n    </g>\n    <g id=\"ytick_4\">\n     <g id=\"line2d_10\">\n      <g>\n       <use style=\"stroke:#000000;stroke-width:0.8;\" x=\"46.965625\" xlink:href=\"#m5de11c8729\" y=\"114.877254\"/>\n      </g>\n     </g>\n     <g id=\"text_10\">\n      <!-- 150 -->\n      <g transform=\"translate(20.878125 118.676473)scale(0.1 -0.1)\">\n       <use xlink:href=\"#DejaVuSans-49\"/>\n       <use x=\"63.623047\" xlink:href=\"#DejaVuSans-53\"/>\n       <use x=\"127.246094\" xlink:href=\"#DejaVuSans-48\"/>\n      </g>\n     </g>\n    </g>\n    <g id=\"ytick_5\">\n     <g id=\"line2d_11\">\n      <g>\n       <use style=\"stroke:#000000;stroke-width:0.8;\" x=\"46.965625\" xlink:href=\"#m5de11c8729\" y=\"78.289672\"/>\n      </g>\n     </g>\n     <g id=\"text_11\">\n      <!-- 200 -->\n      <g transform=\"translate(20.878125 82.088891)scale(0.1 -0.1)\">\n       <use xlink:href=\"#DejaVuSans-50\"/>\n       <use x=\"63.623047\" xlink:href=\"#DejaVuSans-48\"/>\n       <use x=\"127.246094\" xlink:href=\"#DejaVuSans-48\"/>\n      </g>\n     </g>\n    </g>\n    <g id=\"ytick_6\">\n     <g id=\"line2d_12\">\n      <g>\n       <use style=\"stroke:#000000;stroke-width:0.8;\" x=\"46.965625\" xlink:href=\"#m5de11c8729\" y=\"41.70209\"/>\n      </g>\n     </g>\n     <g id=\"text_12\">\n      <!-- 250 -->\n      <g transform=\"translate(20.878125 45.501309)scale(0.1 -0.1)\">\n       <use xlink:href=\"#DejaVuSans-50\"/>\n       <use x=\"63.623047\" xlink:href=\"#DejaVuSans-53\"/>\n       <use x=\"127.246094\" xlink:href=\"#DejaVuSans-48\"/>\n      </g>\n     </g>\n    </g>\n    <g id=\"text_13\">\n     <!-- Frequency -->\n     <defs>\n      <path d=\"M 9.8125 72.90625 \nL 51.703125 72.90625 \nL 51.703125 64.59375 \nL 19.671875 64.59375 \nL 19.671875 43.109375 \nL 48.578125 43.109375 \nL 48.578125 34.8125 \nL 19.671875 34.8125 \nL 19.671875 0 \nL 9.8125 0 \nz\n\" id=\"DejaVuSans-70\"/>\n      <path d=\"M 41.109375 46.296875 \nQ 39.59375 47.171875 37.8125 47.578125 \nQ 36.03125 48 33.890625 48 \nQ 26.265625 48 22.1875 43.046875 \nQ 18.109375 38.09375 18.109375 28.8125 \nL 18.109375 0 \nL 9.078125 0 \nL 9.078125 54.6875 \nL 18.109375 54.6875 \nL 18.109375 46.1875 \nQ 20.953125 51.171875 25.484375 53.578125 \nQ 30.03125 56 36.53125 56 \nQ 37.453125 56 38.578125 55.875 \nQ 39.703125 55.765625 41.0625 55.515625 \nz\n\" id=\"DejaVuSans-114\"/>\n      <path d=\"M 56.203125 29.59375 \nL 56.203125 25.203125 \nL 14.890625 25.203125 \nQ 15.484375 15.921875 20.484375 11.0625 \nQ 25.484375 6.203125 34.421875 6.203125 \nQ 39.59375 6.203125 44.453125 7.46875 \nQ 49.3125 8.734375 54.109375 11.28125 \nL 54.109375 2.78125 \nQ 49.265625 0.734375 44.1875 -0.34375 \nQ 39.109375 -1.421875 33.890625 -1.421875 \nQ 20.796875 -1.421875 13.15625 6.1875 \nQ 5.515625 13.8125 5.515625 26.8125 \nQ 5.515625 40.234375 12.765625 48.109375 \nQ 20.015625 56 32.328125 56 \nQ 43.359375 56 49.78125 48.890625 \nQ 56.203125 41.796875 56.203125 29.59375 \nz\nM 47.21875 32.234375 \nQ 47.125 39.59375 43.09375 43.984375 \nQ 39.0625 48.390625 32.421875 48.390625 \nQ 24.90625 48.390625 20.390625 44.140625 \nQ 15.875 39.890625 15.1875 32.171875 \nz\n\" id=\"DejaVuSans-101\"/>\n      <path d=\"M 14.796875 27.296875 \nQ 14.796875 17.390625 18.875 11.75 \nQ 22.953125 6.109375 30.078125 6.109375 \nQ 37.203125 6.109375 41.296875 11.75 \nQ 45.40625 17.390625 45.40625 27.296875 \nQ 45.40625 37.203125 41.296875 42.84375 \nQ 37.203125 48.484375 30.078125 48.484375 \nQ 22.953125 48.484375 18.875 42.84375 \nQ 14.796875 37.203125 14.796875 27.296875 \nz\nM 45.40625 8.203125 \nQ 42.578125 3.328125 38.25 0.953125 \nQ 33.9375 -1.421875 27.875 -1.421875 \nQ 17.96875 -1.421875 11.734375 6.484375 \nQ 5.515625 14.40625 5.515625 27.296875 \nQ 5.515625 40.1875 11.734375 48.09375 \nQ 17.96875 56 27.875 56 \nQ 33.9375 56 38.25 53.625 \nQ 42.578125 51.265625 45.40625 46.390625 \nL 45.40625 54.6875 \nL 54.390625 54.6875 \nL 54.390625 -20.796875 \nL 45.40625 -20.796875 \nz\n\" id=\"DejaVuSans-113\"/>\n      <path d=\"M 8.5 21.578125 \nL 8.5 54.6875 \nL 17.484375 54.6875 \nL 17.484375 21.921875 \nQ 17.484375 14.15625 20.5 10.265625 \nQ 23.53125 6.390625 29.59375 6.390625 \nQ 36.859375 6.390625 41.078125 11.03125 \nQ 45.3125 15.671875 45.3125 23.6875 \nL 45.3125 54.6875 \nL 54.296875 54.6875 \nL 54.296875 0 \nL 45.3125 0 \nL 45.3125 8.40625 \nQ 42.046875 3.421875 37.71875 1 \nQ 33.40625 -1.421875 27.6875 -1.421875 \nQ 18.265625 -1.421875 13.375 4.4375 \nQ 8.5 10.296875 8.5 21.578125 \nz\nM 31.109375 56 \nz\n\" id=\"DejaVuSans-117\"/>\n      <path d=\"M 54.890625 33.015625 \nL 54.890625 0 \nL 45.90625 0 \nL 45.90625 32.71875 \nQ 45.90625 40.484375 42.875 44.328125 \nQ 39.84375 48.1875 33.796875 48.1875 \nQ 26.515625 48.1875 22.3125 43.546875 \nQ 18.109375 38.921875 18.109375 30.90625 \nL 18.109375 0 \nL 9.078125 0 \nL 9.078125 54.6875 \nL 18.109375 54.6875 \nL 18.109375 46.1875 \nQ 21.34375 51.125 25.703125 53.5625 \nQ 30.078125 56 35.796875 56 \nQ 45.21875 56 50.046875 50.171875 \nQ 54.890625 44.34375 54.890625 33.015625 \nz\n\" id=\"DejaVuSans-110\"/>\n      <path d=\"M 48.78125 52.59375 \nL 48.78125 44.1875 \nQ 44.96875 46.296875 41.140625 47.34375 \nQ 37.3125 48.390625 33.40625 48.390625 \nQ 24.65625 48.390625 19.8125 42.84375 \nQ 14.984375 37.3125 14.984375 27.296875 \nQ 14.984375 17.28125 19.8125 11.734375 \nQ 24.65625 6.203125 33.40625 6.203125 \nQ 37.3125 6.203125 41.140625 7.25 \nQ 44.96875 8.296875 48.78125 10.40625 \nL 48.78125 2.09375 \nQ 45.015625 0.34375 40.984375 -0.53125 \nQ 36.96875 -1.421875 32.421875 -1.421875 \nQ 20.0625 -1.421875 12.78125 6.34375 \nQ 5.515625 14.109375 5.515625 27.296875 \nQ 5.515625 40.671875 12.859375 48.328125 \nQ 20.21875 56 33.015625 56 \nQ 37.15625 56 41.109375 55.140625 \nQ 45.0625 54.296875 48.78125 52.59375 \nz\n\" id=\"DejaVuSans-99\"/>\n      <path d=\"M 32.171875 -5.078125 \nQ 28.375 -14.84375 24.75 -17.8125 \nQ 21.140625 -20.796875 15.09375 -20.796875 \nL 7.90625 -20.796875 \nL 7.90625 -13.28125 \nL 13.1875 -13.28125 \nQ 16.890625 -13.28125 18.9375 -11.515625 \nQ 21 -9.765625 23.484375 -3.21875 \nL 25.09375 0.875 \nL 2.984375 54.6875 \nL 12.5 54.6875 \nL 29.59375 11.921875 \nL 46.6875 54.6875 \nL 56.203125 54.6875 \nz\n\" id=\"DejaVuSans-121\"/>\n     </defs>\n     <g transform=\"translate(14.798438 141.749687)rotate(-90)scale(0.1 -0.1)\">\n      <use xlink:href=\"#DejaVuSans-70\"/>\n      <use x=\"50.269531\" xlink:href=\"#DejaVuSans-114\"/>\n      <use x=\"89.132812\" xlink:href=\"#DejaVuSans-101\"/>\n      <use x=\"150.65625\" xlink:href=\"#DejaVuSans-113\"/>\n      <use x=\"214.132812\" xlink:href=\"#DejaVuSans-117\"/>\n      <use x=\"277.511719\" xlink:href=\"#DejaVuSans-101\"/>\n      <use x=\"339.035156\" xlink:href=\"#DejaVuSans-110\"/>\n      <use x=\"402.414062\" xlink:href=\"#DejaVuSans-99\"/>\n      <use x=\"457.394531\" xlink:href=\"#DejaVuSans-121\"/>\n     </g>\n    </g>\n   </g>\n   <g id=\"patch_13\">\n    <path d=\"M 46.965625 224.64 \nL 46.965625 7.2 \n\" style=\"fill:none;stroke:#000000;stroke-linecap:square;stroke-linejoin:miter;stroke-width:0.8;\"/>\n   </g>\n   <g id=\"patch_14\">\n    <path d=\"M 381.765625 224.64 \nL 381.765625 7.2 \n\" style=\"fill:none;stroke:#000000;stroke-linecap:square;stroke-linejoin:miter;stroke-width:0.8;\"/>\n   </g>\n   <g id=\"patch_15\">\n    <path d=\"M 46.965625 224.64 \nL 381.765625 224.64 \n\" style=\"fill:none;stroke:#000000;stroke-linecap:square;stroke-linejoin:miter;stroke-width:0.8;\"/>\n   </g>\n   <g id=\"patch_16\">\n    <path d=\"M 46.965625 7.2 \nL 381.765625 7.2 \n\" style=\"fill:none;stroke:#000000;stroke-linecap:square;stroke-linejoin:miter;stroke-width:0.8;\"/>\n   </g>\n   <g id=\"legend_1\">\n    <g id=\"patch_17\">\n     <path d=\"M 53.965625 29.878125 \nL 160.178125 29.878125 \nQ 162.178125 29.878125 162.178125 27.878125 \nL 162.178125 14.2 \nQ 162.178125 12.2 160.178125 12.2 \nL 53.965625 12.2 \nQ 51.965625 12.2 51.965625 14.2 \nL 51.965625 27.878125 \nQ 51.965625 29.878125 53.965625 29.878125 \nz\n\" style=\"fill:#ffffff;opacity:0.8;stroke:#cccccc;stroke-linejoin:miter;\"/>\n    </g>\n    <g id=\"patch_18\">\n     <path d=\"M 55.965625 23.798437 \nL 75.965625 23.798437 \nL 75.965625 16.798437 \nL 55.965625 16.798437 \nz\n\" style=\"fill:#1f77b4;\"/>\n    </g>\n    <g id=\"text_14\">\n     <!-- Mutation score -->\n     <defs>\n      <path d=\"M 9.8125 72.90625 \nL 24.515625 72.90625 \nL 43.109375 23.296875 \nL 61.8125 72.90625 \nL 76.515625 72.90625 \nL 76.515625 0 \nL 66.890625 0 \nL 66.890625 64.015625 \nL 48.09375 14.015625 \nL 38.1875 14.015625 \nL 19.390625 64.015625 \nL 19.390625 0 \nL 9.8125 0 \nz\n\" id=\"DejaVuSans-77\"/>\n      <path d=\"M 18.3125 70.21875 \nL 18.3125 54.6875 \nL 36.8125 54.6875 \nL 36.8125 47.703125 \nL 18.3125 47.703125 \nL 18.3125 18.015625 \nQ 18.3125 11.328125 20.140625 9.421875 \nQ 21.96875 7.515625 27.59375 7.515625 \nL 36.8125 7.515625 \nL 36.8125 0 \nL 27.59375 0 \nQ 17.1875 0 13.234375 3.875 \nQ 9.28125 7.765625 9.28125 18.015625 \nL 9.28125 47.703125 \nL 2.6875 47.703125 \nL 2.6875 54.6875 \nL 9.28125 54.6875 \nL 9.28125 70.21875 \nz\n\" id=\"DejaVuSans-116\"/>\n      <path d=\"M 34.28125 27.484375 \nQ 23.390625 27.484375 19.1875 25 \nQ 14.984375 22.515625 14.984375 16.5 \nQ 14.984375 11.71875 18.140625 8.90625 \nQ 21.296875 6.109375 26.703125 6.109375 \nQ 34.1875 6.109375 38.703125 11.40625 \nQ 43.21875 16.703125 43.21875 25.484375 \nL 43.21875 27.484375 \nz\nM 52.203125 31.203125 \nL 52.203125 0 \nL 43.21875 0 \nL 43.21875 8.296875 \nQ 40.140625 3.328125 35.546875 0.953125 \nQ 30.953125 -1.421875 24.3125 -1.421875 \nQ 15.921875 -1.421875 10.953125 3.296875 \nQ 6 8.015625 6 15.921875 \nQ 6 25.140625 12.171875 29.828125 \nQ 18.359375 34.515625 30.609375 34.515625 \nL 43.21875 34.515625 \nL 43.21875 35.40625 \nQ 43.21875 41.609375 39.140625 45 \nQ 35.0625 48.390625 27.6875 48.390625 \nQ 23 48.390625 18.546875 47.265625 \nQ 14.109375 46.140625 10.015625 43.890625 \nL 10.015625 52.203125 \nQ 14.9375 54.109375 19.578125 55.046875 \nQ 24.21875 56 28.609375 56 \nQ 40.484375 56 46.34375 49.84375 \nQ 52.203125 43.703125 52.203125 31.203125 \nz\n\" id=\"DejaVuSans-97\"/>\n      <path d=\"M 9.421875 54.6875 \nL 18.40625 54.6875 \nL 18.40625 0 \nL 9.421875 0 \nz\nM 9.421875 75.984375 \nL 18.40625 75.984375 \nL 18.40625 64.59375 \nL 9.421875 64.59375 \nz\n\" id=\"DejaVuSans-105\"/>\n      <path d=\"M 30.609375 48.390625 \nQ 23.390625 48.390625 19.1875 42.75 \nQ 14.984375 37.109375 14.984375 27.296875 \nQ 14.984375 17.484375 19.15625 11.84375 \nQ 23.34375 6.203125 30.609375 6.203125 \nQ 37.796875 6.203125 41.984375 11.859375 \nQ 46.1875 17.53125 46.1875 27.296875 \nQ 46.1875 37.015625 41.984375 42.703125 \nQ 37.796875 48.390625 30.609375 48.390625 \nz\nM 30.609375 56 \nQ 42.328125 56 49.015625 48.375 \nQ 55.71875 40.765625 55.71875 27.296875 \nQ 55.71875 13.875 49.015625 6.21875 \nQ 42.328125 -1.421875 30.609375 -1.421875 \nQ 18.84375 -1.421875 12.171875 6.21875 \nQ 5.515625 13.875 5.515625 27.296875 \nQ 5.515625 40.765625 12.171875 48.375 \nQ 18.84375 56 30.609375 56 \nz\n\" id=\"DejaVuSans-111\"/>\n      <path id=\"DejaVuSans-32\"/>\n      <path d=\"M 44.28125 53.078125 \nL 44.28125 44.578125 \nQ 40.484375 46.53125 36.375 47.5 \nQ 32.28125 48.484375 27.875 48.484375 \nQ 21.1875 48.484375 17.84375 46.4375 \nQ 14.5 44.390625 14.5 40.28125 \nQ 14.5 37.15625 16.890625 35.375 \nQ 19.28125 33.59375 26.515625 31.984375 \nL 29.59375 31.296875 \nQ 39.15625 29.25 43.1875 25.515625 \nQ 47.21875 21.78125 47.21875 15.09375 \nQ 47.21875 7.46875 41.1875 3.015625 \nQ 35.15625 -1.421875 24.609375 -1.421875 \nQ 20.21875 -1.421875 15.453125 -0.5625 \nQ 10.6875 0.296875 5.421875 2 \nL 5.421875 11.28125 \nQ 10.40625 8.6875 15.234375 7.390625 \nQ 20.0625 6.109375 24.8125 6.109375 \nQ 31.15625 6.109375 34.5625 8.28125 \nQ 37.984375 10.453125 37.984375 14.40625 \nQ 37.984375 18.0625 35.515625 20.015625 \nQ 33.0625 21.96875 24.703125 23.78125 \nL 21.578125 24.515625 \nQ 13.234375 26.265625 9.515625 29.90625 \nQ 5.8125 33.546875 5.8125 39.890625 \nQ 5.8125 47.609375 11.28125 51.796875 \nQ 16.75 56 26.8125 56 \nQ 31.78125 56 36.171875 55.265625 \nQ 40.578125 54.546875 44.28125 53.078125 \nz\n\" id=\"DejaVuSans-115\"/>\n     </defs>\n     <g transform=\"translate(83.965625 23.798437)scale(0.1 -0.1)\">\n      <use xlink:href=\"#DejaVuSans-77\"/>\n      <use x=\"86.279297\" xlink:href=\"#DejaVuSans-117\"/>\n      <use x=\"149.658203\" xlink:href=\"#DejaVuSans-116\"/>\n      <use x=\"188.867188\" xlink:href=\"#DejaVuSans-97\"/>\n      <use x=\"250.146484\" xlink:href=\"#DejaVuSans-116\"/>\n      <use x=\"289.355469\" xlink:href=\"#DejaVuSans-105\"/>\n      <use x=\"317.138672\" xlink:href=\"#DejaVuSans-111\"/>\n      <use x=\"378.320312\" xlink:href=\"#DejaVuSans-110\"/>\n      <use x=\"441.699219\" xlink:href=\"#DejaVuSans-32\"/>\n      <use x=\"473.486328\" xlink:href=\"#DejaVuSans-115\"/>\n      <use x=\"525.585938\" xlink:href=\"#DejaVuSans-99\"/>\n      <use x=\"580.566406\" xlink:href=\"#DejaVuSans-111\"/>\n      <use x=\"641.748047\" xlink:href=\"#DejaVuSans-114\"/>\n      <use x=\"680.611328\" xlink:href=\"#DejaVuSans-101\"/>\n     </g>\n    </g>\n   </g>\n  </g>\n </g>\n <defs>\n  <clipPath id=\"p1e93ec638a\">\n   <rect height=\"217.44\" width=\"334.8\" x=\"46.965625\" y=\"7.2\"/>\n  </clipPath>\n </defs>\n</svg>\n",
      "image/png": "[encoded data removed]"
     },
     "metadata": {
      "needs_background": "light"
     }
    }
   ],
   "source": [
    "df3.plot.hist()"
   ]
  },
  {
   "cell_type": "code",
   "execution_count": 35,
   "metadata": {},
   "outputs": [],
   "source": [
    "df3.to_csv('original.csv')"
   ]
  },
  {
   "cell_type": "code",
   "execution_count": 39,
   "metadata": {},
   "outputs": [
    {
     "output_type": "execute_result",
     "data": {
      "text/plain": "                                                   key  Computational accuracy\n0    PRIMALITY_TEST_SET_1_INTRODUCTION_AND_SCHOOL_M...                     1.0\n1            FIND_LARGEST_D_IN_ARRAY_SUCH_THAT_A_B_C_D                     0.8\n2    PROGRAM_TO_FIND_REMAINDER_WITHOUT_USING_MODULO...                     1.0\n3                     MODULUS_TWO_FLOAT_DOUBLE_NUMBERS                     1.0\n4                             NUMBER_SUBSTRINGS_STRING                     1.0\n..                                                 ...                     ...\n400                  QUICK_WAY_CHECK_CHARACTERS_STRING                     1.0\n401  MINIMUM_FLIP_REQUIRED_MAKE_BINARY_MATRIX_SYMME...                     1.0\n402                          SUM_SERIES_12_32_52_2N_12                     0.0\n403  COUNT_STRINGS_CAN_FORMED_USING_B_C_GIVEN_CONST...                     0.0\n404  COUNT_PAIRS_TWO_SORTED_ARRAYS_WHOSE_SUM_EQUAL_...                     1.0\n\n[405 rows x 2 columns]",
      "text/html": "<div>\n<style scoped>\n    .dataframe tbody tr th:only-of-type {\n        vertical-align: middle;\n    }\n\n    .dataframe tbody tr th {\n        vertical-align: top;\n    }\n\n    .dataframe thead th {\n        text-align: right;\n    }\n</style>\n<table border=\"1\" class=\"dataframe\">\n  <thead>\n    <tr style=\"text-align: right;\">\n      <th></th>\n      <th>key</th>\n      <th>Computational accuracy</th>\n    </tr>\n  </thead>\n  <tbody>\n    <tr>\n      <th>0</th>\n      <td>PRIMALITY_TEST_SET_1_INTRODUCTION_AND_SCHOOL_M...</td>\n      <td>1.0</td>\n    </tr>\n    <tr>\n      <th>1</th>\n      <td>FIND_LARGEST_D_IN_ARRAY_SUCH_THAT_A_B_C_D</td>\n      <td>0.8</td>\n    </tr>\n    <tr>\n      <th>2</th>\n      <td>PROGRAM_TO_FIND_REMAINDER_WITHOUT_USING_MODULO...</td>\n      <td>1.0</td>\n    </tr>\n    <tr>\n      <th>3</th>\n      <td>MODULUS_TWO_FLOAT_DOUBLE_NUMBERS</td>\n      <td>1.0</td>\n    </tr>\n    <tr>\n      <th>4</th>\n      <td>NUMBER_SUBSTRINGS_STRING</td>\n      <td>1.0</td>\n    </tr>\n    <tr>\n      <th>...</th>\n      <td>...</td>\n      <td>...</td>\n    </tr>\n    <tr>\n      <th>400</th>\n      <td>QUICK_WAY_CHECK_CHARACTERS_STRING</td>\n      <td>1.0</td>\n    </tr>\n    <tr>\n      <th>401</th>\n      <td>MINIMUM_FLIP_REQUIRED_MAKE_BINARY_MATRIX_SYMME...</td>\n      <td>1.0</td>\n    </tr>\n    <tr>\n      <th>402</th>\n      <td>SUM_SERIES_12_32_52_2N_12</td>\n      <td>0.0</td>\n    </tr>\n    <tr>\n      <th>403</th>\n      <td>COUNT_STRINGS_CAN_FORMED_USING_B_C_GIVEN_CONST...</td>\n      <td>0.0</td>\n    </tr>\n    <tr>\n      <th>404</th>\n      <td>COUNT_PAIRS_TWO_SORTED_ARRAYS_WHOSE_SUM_EQUAL_...</td>\n      <td>1.0</td>\n    </tr>\n  </tbody>\n</table>\n<p>405 rows × 2 columns</p>\n</div>"
     },
     "metadata": {},
     "execution_count": 39
    }
   ],
   "source": [
    "df4 = pd.read_csv('original.csv', usecols=['key', 'Computational accuracy'])\n",
    "df4"
   ]
  },
  {
   "cell_type": "code",
   "execution_count": 40,
   "metadata": {},
   "outputs": [
    {
     "output_type": "execute_result",
     "data": {
      "text/plain": "                                                   key  Mutation score\n0    GIVEN_A_SORTED_AND_ROTATED_ARRAY_FIND_IF_THERE...             0.2\n1    SMALLEST_OF_THREE_INTEGERS_WITHOUT_COMPARISON_...             0.9\n2     FIND_NUMBER_TRANSFORMATION_MAKE_TWO_MATRIX_EQUAL             0.9\n3                                        PRIME_NUMBERS             0.8\n4    DECIMAL_REPRESENTATION_GIVEN_BINARY_STRING_DIV...             0.2\n..                                                 ...             ...\n550                    NUMBER_N_DIGIT_STEPPING_NUMBERS             1.0\n551  MINIMUM_COST_MAKE_ARRAY_SIZE_1_REMOVING_LARGER...             0.3\n552                      FIND_REPETITIVE_ELEMENT_1_N_1             1.0\n553  K_TH_MISSING_ELEMENT_INCREASING_SEQUENCE_NOT_P...             0.3\n554                                 FIBONACCI_MODULO_P             1.0\n\n[555 rows x 2 columns]",
      "text/html": "<div>\n<style scoped>\n    .dataframe tbody tr th:only-of-type {\n        vertical-align: middle;\n    }\n\n    .dataframe tbody tr th {\n        vertical-align: top;\n    }\n\n    .dataframe thead th {\n        text-align: right;\n    }\n</style>\n<table border=\"1\" class=\"dataframe\">\n  <thead>\n    <tr style=\"text-align: right;\">\n      <th></th>\n      <th>key</th>\n      <th>Mutation score</th>\n    </tr>\n  </thead>\n  <tbody>\n    <tr>\n      <th>0</th>\n      <td>GIVEN_A_SORTED_AND_ROTATED_ARRAY_FIND_IF_THERE...</td>\n      <td>0.2</td>\n    </tr>\n    <tr>\n      <th>1</th>\n      <td>SMALLEST_OF_THREE_INTEGERS_WITHOUT_COMPARISON_...</td>\n      <td>0.9</td>\n    </tr>\n    <tr>\n      <th>2</th>\n      <td>FIND_NUMBER_TRANSFORMATION_MAKE_TWO_MATRIX_EQUAL</td>\n      <td>0.9</td>\n    </tr>\n    <tr>\n      <th>3</th>\n      <td>PRIME_NUMBERS</td>\n      <td>0.8</td>\n    </tr>\n    <tr>\n      <th>4</th>\n      <td>DECIMAL_REPRESENTATION_GIVEN_BINARY_STRING_DIV...</td>\n      <td>0.2</td>\n    </tr>\n    <tr>\n      <th>...</th>\n      <td>...</td>\n      <td>...</td>\n    </tr>\n    <tr>\n      <th>550</th>\n      <td>NUMBER_N_DIGIT_STEPPING_NUMBERS</td>\n      <td>1.0</td>\n    </tr>\n    <tr>\n      <th>551</th>\n      <td>MINIMUM_COST_MAKE_ARRAY_SIZE_1_REMOVING_LARGER...</td>\n      <td>0.3</td>\n    </tr>\n    <tr>\n      <th>552</th>\n      <td>FIND_REPETITIVE_ELEMENT_1_N_1</td>\n      <td>1.0</td>\n    </tr>\n    <tr>\n      <th>553</th>\n      <td>K_TH_MISSING_ELEMENT_INCREASING_SEQUENCE_NOT_P...</td>\n      <td>0.3</td>\n    </tr>\n    <tr>\n      <th>554</th>\n      <td>FIBONACCI_MODULO_P</td>\n      <td>1.0</td>\n    </tr>\n  </tbody>\n</table>\n<p>555 rows × 2 columns</p>\n</div>"
     },
     "metadata": {},
     "execution_count": 40
    }
   ],
   "source": [
    "df5 = pd.read_csv('mutants.csv', usecols=['key', 'Mutation score'])\n",
    "df5"
   ]
  },
  {
   "cell_type": "code",
   "execution_count": 46,
   "metadata": {},
   "outputs": [],
   "source": [
    "# df4.join(df5.set_index('key'), on='key', how='outer')\n",
    "df6 = pd.merge(df4, df5, on='key', how='outer')\n",
    "df6.to_csv('transcoder_compare_result.csv')"
   ]
  },
  {
   "cell_type": "code",
   "execution_count": 3,
   "metadata": {},
   "outputs": [],
   "source": [
    "# class wrapper for j2py translation\n",
    "for entry in os.scandir('experiment_jp_test/mutants'):\n",
    "    with open(entry.path) as f:\n",
    "        with open('experiment_jp_test/j2pyraw/' + entry.name, 'w') as fi:\n",
    "            fi.write('class X { ' + f.readline() + ' }')"
   ]
  },
  {
   "cell_type": "code",
   "execution_count": 4,
   "metadata": {
    "tags": []
   },
   "outputs": [],
   "source": [
    "\n",
    "import subprocess\n",
    "import IPython\n",
    "for entry in os.scandir('experiment_jp_test/j2pyraw'):\n",
    "    print(entry.name)\n",
    "    subprocess.run(['j2py', entry.path, 'experiment_jp_test/j2pyrawpy/' + entry.name.split('.')[0] + '.py'])\n",
    "    IPython.display.clear_output()"
   ]
  },
  {
   "cell_type": "code",
   "execution_count": 15,
   "metadata": {
    "tags": [
     "outputPrepend"
    ]
   },
   "outputs": [
    {
     "name": "stdout",
     "output_type": "stream",
     "text": [
      "RAMMING_SET_17_PALINDROME_PARTITIONING_1.py\n",
      "for__0__MAXIMIZE_VOLUME_CUBOID_GIVEN_SUM_SIDES.py\n",
      "if__0__SUM_NODES_K_TH_LEVEL_TREE_REPRESENTED_STRING_1.py\n",
      "[Errno 2] No such file or directory: &#39;data/evaluation/geeks_for_geeks_successful_test_scripts/python/SUM_NODES_K_TH_LEVEL_TREE_REPRESENTED_STRING_1.py&#39;\n",
      "if__0__CONVERTING_ONE_STRING_USING_APPEND_DELETE_LAST_OPERATIONS.py\n",
      "for__0__PRINT_TRIPLETS_SORTED_ARRAY_FORM_AP.py\n",
      "[Errno 2] No such file or directory: &#39;data/evaluation/geeks_for_geeks_successful_test_scripts/python/PRINT_TRIPLETS_SORTED_ARRAY_FORM_AP.py&#39;\n",
      "for__0__K_NUMBERS_DIFFERENCE_MAXIMUM_MINIMUM_K_NUMBER_MINIMIZED.py\n",
      "while__1__LOWER_INSERTION_POINT.py\n",
      "for__0__SHORTEST_UNCOMMON_SUBSEQUENCE.py\n",
      "[Errno 2] No such file or directory: &#39;data/evaluation/geeks_for_geeks_successful_test_scripts/python/SHORTEST_UNCOMMON_SUBSEQUENCE.py&#39;\n",
      "if__0__NEXT_POWER_OF_2.py\n",
      "for__0__SORT_ARRAY_WAVE_FORM_2_1.py\n",
      "for__2__MAXIMUM_PATH_SUM_STARTING_CELL_0_TH_ROW_ENDING_CELL_N_1_TH_ROW.py\n",
      "[Errno 2] No such file or directory: &#39;data/evaluation/geeks_for_geeks_successful_test_scripts/python/MAXIMUM_PATH_SUM_STARTING_CELL_0_TH_ROW_ENDING_CELL_N_1_TH_ROW.py&#39;\n",
      "while__0__POSITION_OF_RIGHTMOST_SET_BIT_1.py\n",
      "for__0__FIND_SUM_EVEN_FACTORS_NUMBER.py\n",
      "if__0__FIND_BITONIC_POINT_GIVEN_BITONIC_SEQUENCE.py\n",
      "[Errno 2] No such file or directory: &#39;data/evaluation/geeks_for_geeks_successful_test_scripts/python/FIND_BITONIC_POINT_GIVEN_BITONIC_SEQUENCE.py&#39;\n",
      "for__0__COUNT_NUMBERS_CAN_CONSTRUCTED_USING_TWO_NUMBERS.py\n",
      "for__1__MAXIMUM_SUBARRAY_SUM_USING_PREFIX_SUM.py\n",
      "if__2__PROGRAM_TO_FIND_REMAINDER_WITHOUT_USING_MODULO_OR_OPERATOR_1.py\n",
      "if__0__LONGEST_COMMON_SUBSEQUENCE_WITH_AT_MOST_K_CHANGES_ALLOWED.py\n",
      "if__1__MAXIMUM_SUBSEQUENCE_SUM_SUCH_THAT_NO_THREE_ARE_CONSECUTIVE_1.py\n",
      "[Errno 2] No such file or directory: &#39;data/evaluation/geeks_for_geeks_successful_test_scripts/python/MAXIMUM_SUBSEQUENCE_SUM_SUCH_THAT_NO_THREE_ARE_CONSECUTIVE_1.py&#39;\n",
      "for__0__COUNT_SUBSTRINGS_BINARY_STRING_CONTAINING_K_ONES.py\n",
      "[Errno 2] No such file or directory: &#39;data/evaluation/geeks_for_geeks_successful_test_scripts/python/COUNT_SUBSTRINGS_BINARY_STRING_CONTAINING_K_ONES.py&#39;\n",
      "for__0__FIND_REPETITIVE_ELEMENT_1_N_1_3.py\n",
      "[Errno 2] No such file or directory: &#39;data/evaluation/geeks_for_geeks_successful_test_scripts/python/FIND_REPETITIVE_ELEMENT_1_N_1_3.py&#39;\n",
      "for__0__POSSIBLE_TO_MAKE_A_DIVISIBLE_BY_3_NUMBER_USING_ALL_DIGITS_IN_AN_ARRAY.py\n",
      "for__1__LENGTH_OF_THE_LONGEST_ARITHMATIC_PROGRESSION_IN_A_SORTED_ARRAY.py\n",
      "for__2__SHORTEST_UNCOMMON_SUBSEQUENCE.py\n",
      "[Errno 2] No such file or directory: &#39;data/evaluation/geeks_for_geeks_successful_test_scripts/python/SHORTEST_UNCOMMON_SUBSEQUENCE.py&#39;\n",
      "while__1__SHORTEST_POSSIBLE_COMBINATION_TWO_STRINGS.py\n",
      "[Errno 2] No such file or directory: &#39;data/evaluation/geeks_for_geeks_successful_test_scripts/python/SHORTEST_POSSIBLE_COMBINATION_TWO_STRINGS.py&#39;\n",
      "while__0__COUNT_TOTAL_SET_BITS_IN_ALL_NUMBERS_FROM_1_TO_N.py\n",
      "if__1__DYNAMIC_PROGRAMMING_SET_4_LONGEST_COMMON_SUBSEQUENCE.py\n",
      "[Errno 2] No such file or directory: &#39;data/evaluation/geeks_for_geeks_successful_test_scripts/python/DYNAMIC_PROGRAMMING_SET_4_LONGEST_COMMON_SUBSEQUENCE.py&#39;\n",
      "if__1__FIND_VALUE_OF_Y_MOD_2_RAISED_TO_POWER_X.py\n",
      "while__0__CHECK_QUEUE_CAN_SORTED_ANOTHER_QUEUE_USING_STACK.py\n",
      "[Errno 2] No such file or directory: &#39;data/evaluation/geeks_for_geeks_successful_test_scripts/python/CHECK_QUEUE_CAN_SORTED_ANOTHER_QUEUE_USING_STACK.py&#39;\n",
      "for__1__COUNT_POSSIBLE_PATHS_TOP_LEFT_BOTTOM_RIGHT_NXM_MATRIX_1.py\n",
      "[Errno 2] No such file or directory: &#39;data/evaluation/geeks_for_geeks_successful_test_scripts/python/COUNT_POSSIBLE_PATHS_TOP_LEFT_BOTTOM_RIGHT_NXM_MATRIX_1.py&#39;\n",
      "for__0__MULTISTAGE_GRAPH_SHORTEST_PATH.py\n",
      "[Errno 2] No such file or directory: &#39;data/evaluation/geeks_for_geeks_successful_test_scripts/python/MULTISTAGE_GRAPH_SHORTEST_PATH.py&#39;\n",
      "for__1__LONGEST_COMMON_INCREASING_SUBSEQUENCE_LCS_LIS.py\n",
      "for__1__COUNT_NUMBER_INCREASING_SUBSEQUENCES_SIZE_K.py\n",
      "[Errno 2] No such file or directory: &#39;data/evaluation/geeks_for_geeks_successful_test_scripts/python/COUNT_NUMBER_INCREASING_SUBSEQUENCES_SIZE_K.py&#39;\n",
      "for__0__CHECK_ARRAY_REPRESENTS_INORDER_BINARY_SEARCH_TREE_NOT.py\n",
      "for__0__PROGRAM_TO_FIND_TRANSPOSE_OF_A_MATRIX_2.py\n",
      "[Errno 2] No such file or directory: &#39;data/evaluation/geeks_for_geeks_successful_test_scripts/python/PROGRAM_TO_FIND_TRANSPOSE_OF_A_MATRIX_2.py&#39;\n",
      "for__0__FIND_THREE_ELEMENT_FROM_DIFFERENT_THREE_ARRAYS_SUCH_THAT_THAT_A_B_C_K.py\n",
      "if__2__FIND_THE_ELEMENT_THAT_ODD_NUMBER_OF_TIMES_IN_OLOG_N_TIME.py\n",
      "[Errno 2] No such file or directory: &#39;data/evaluation/geeks_for_geeks_successful_test_scripts/python/FIND_THE_ELEMENT_THAT_ODD_NUMBER_OF_TIMES_IN_OLOG_N_TIME.py&#39;\n",
      "while__0__PROGRAM_DECIMAL_BINARY_CONVERSION_2.py\n",
      "for__0__LONGEST_SPAN_SUM_TWO_BINARY_ARRAYS_1.py\n",
      "[Errno 2] No such file or directory: &#39;data/evaluation/geeks_for_geeks_successful_test_scripts/python/LONGEST_SPAN_SUM_TWO_BINARY_ARRAYS_1.py&#39;\n",
      "for__0__MAXIMUM_DECIMAL_VALUE_PATH_IN_A_BINARY_MATRIX_1.py\n",
      "[Errno 2] No such file or directory: &#39;data/evaluation/geeks_for_geeks_successful_test_scripts/python/MAXIMUM_DECIMAL_VALUE_PATH_IN_A_BINARY_MATRIX_1.py&#39;\n",
      "while__0__PROGRAM_DECIMAL_OCTAL_CONVERSION.py\n",
      "[Errno 2] No such file or directory: &#39;data/evaluation/geeks_for_geeks_successful_test_scripts/python/PROGRAM_DECIMAL_OCTAL_CONVERSION.py&#39;\n",
      "if__2__COUNT_STRINGS_CAN_FORMED_USING_B_C_GIVEN_CONSTRAINTS.py\n",
      "[Errno 2] No such file or directory: &#39;data/evaluation/geeks_for_geeks_successful_test_scripts/python/COUNT_STRINGS_CAN_FORMED_USING_B_C_GIVEN_CONSTRAINTS.py&#39;\n",
      "if__0__LCS_LONGEST_COMMON_SUBSEQUENCE_THREE_STRINGS_1.py\n",
      "[Errno 2] No such file or directory: &#39;data/evaluation/geeks_for_geeks_successful_test_scripts/python/LCS_LONGEST_COMMON_SUBSEQUENCE_THREE_STRINGS_1.py&#39;\n",
      "if__0__PROGRAM_CHECK_ARRAY_SORTED_NOT_ITERATIVE_RECURSIVE.py\n",
      "[Errno 2] No such file or directory: &#39;data/evaluation/geeks_for_geeks_successful_test_scripts/python/PROGRAM_CHECK_ARRAY_SORTED_NOT_ITERATIVE_RECURSIVE.py&#39;\n",
      "for__0__COUNT_BINARY_STRINGS_K_TIMES_APPEARING_ADJACENT_TWO_SET_BITS.py\n",
      "for__1__LEXICOGRAPHICAL_CONCATENATION_SUBSTRINGS_STRING.py\n",
      "if__4__DIRECTION_LAST_SQUARE_BLOCK.py\n",
      "[Errno 2] No such file or directory: &#39;data/evaluation/geeks_for_geeks_successful_test_scripts/python/DIRECTION_LAST_SQUARE_BLOCK.py&#39;\n",
      "for__0__FIND_LAST_INDEX_CHARACTER_STRING.py\n",
      "[Errno 2] No such file or directory: &#39;data/evaluation/geeks_for_geeks_successful_test_scripts/python/FIND_LAST_INDEX_CHARACTER_STRING.py&#39;\n",
      "for__3__MAXIMUM_POINTS_COLLECTED_BY_TWO_PERSONS_ALLOWED_TO_MEET_ONCE.py\n",
      "[Errno 2] No such file or directory: &#39;data/evaluation/geeks_for_geeks_successful_test_scripts/python/MAXIMUM_POINTS_COLLECTED_BY_TWO_PERSONS_ALLOWED_TO_MEET_ONCE.py&#39;\n",
      "for__0__NUMBER_INDEXES_EQUAL_ELEMENTS_GIVEN_RANGE.py\n",
      "for__2__COUNT_PALINDROME_SUB_STRINGS_STRING.py\n",
      "for__1__CHECK_ARRAY_MAJORITY_ELEMENT.py\n",
      "[Errno 2] No such file or directory: &#39;data/evaluation/geeks_for_geeks_successful_test_scripts/python/CHECK_ARRAY_MAJORITY_ELEMENT.py&#39;\n",
      "for__1__LONGEST_INCREASING_SUBSEQUENCE_1.py\n",
      "[Errno 2] No such file or directory: &#39;data/evaluation/geeks_for_geeks_successful_test_scripts/python/LONGEST_INCREASING_SUBSEQUENCE_1.py&#39;\n",
      "for__0__FIND_THE_ELEMENT_THAT_APPEARS_ONCE_2.py\n",
      "[Errno 2] No such file or directory: &#39;data/evaluation/geeks_for_geeks_successful_test_scripts/python/FIND_THE_ELEMENT_THAT_APPEARS_ONCE_2.py&#39;\n",
      "while__1__CHECK_IF_STACK_ELEMENTS_ARE_PAIRWISE_CONSECUTIVE.py\n",
      "[Errno 2] No such file or directory: &#39;data/evaluation/geeks_for_geeks_successful_test_scripts/python/CHECK_IF_STACK_ELEMENTS_ARE_PAIRWISE_CONSECUTIVE.py&#39;\n",
      "for__0__FIND_A_SPECIFIC_PAIR_IN_MATRIX_1.py\n",
      "[Errno 2] No such file or directory: &#39;data/evaluation/geeks_for_geeks_successful_test_scripts/python/FIND_A_SPECIFIC_PAIR_IN_MATRIX_1.py&#39;\n",
      "if__0__COUNT_ROTATIONS_DIVISIBLE_8.py\n",
      "[Errno 2] No such file or directory: &#39;data/evaluation/geeks_for_geeks_successful_test_scripts/python/COUNT_ROTATIONS_DIVISIBLE_8.py&#39;\n",
      "for__1__MODIFY_ARRAY_TO_MAXIMIZE_SUM_OF_ADJACENT_DIFFERENCES.py\n",
      "[Errno 2] No such file or directory: &#39;data/evaluation/geeks_for_geeks_successful_test_scripts/python/MODIFY_ARRAY_TO_MAXIMIZE_SUM_OF_ADJACENT_DIFFERENCES.py&#39;\n",
      "while__0__EULERS_FOUR_SQUARE_IDENTITY_1.py\n",
      "[Errno 2] No such file or directory: &#39;data/evaluation/geeks_for_geeks_successful_test_scripts/python/EULERS_FOUR_SQUARE_IDENTITY_1.py&#39;\n",
      "while__0__INTERPOLATION_SEARCH.py\n",
      "[Errno 2] No such file or directory: &#39;data/evaluation/geeks_for_geeks_successful_test_scripts/python/INTERPOLATION_SEARCH.py&#39;\n",
      "for__0__PROGRAM_CHECK_INPUT_INTEGER_STRING.py\n",
      "for__0__MINIMUM_COST_CONNECT_WEIGHTED_NODES_REPRESENTED_ARRAY.py\n",
      "if__2__LONGEST_COMMON_SUBSEQUENCE_WITH_AT_MOST_K_CHANGES_ALLOWED.py\n",
      "for__0__PRINT_MAXIMUM_SHORTEST_DISTANCE.py\n",
      "if__1__PROGRAM_FIND_GCD_FLOATING_POINT_NUMBERS.py\n",
      "[Errno 2] No such file or directory: &#39;data/evaluation/geeks_for_geeks_successful_test_scripts/python/PROGRAM_FIND_GCD_FLOATING_POINT_NUMBERS.py&#39;\n",
      "for__0__PRINT_A_CLOSEST_STRING_THAT_DOES_NOT_CONTAIN_ADJACENT_DUPLICATES.py\n",
      "[Errno 2] No such file or directory: &#39;data/evaluation/geeks_for_geeks_successful_test_scripts/python/PRINT_A_CLOSEST_STRING_THAT_DOES_NOT_CONTAIN_ADJACENT_DUPLICATES.py&#39;\n",
      "if__4__FIND_ROTATION_COUNT_ROTATED_SORTED_ARRAY_1.py\n",
      "if__0__DISTRIBUTING_M_ITEMS_CIRCLE_SIZE_N_STARTING_K_TH_POSITION.py\n",
      "for__0__GIVEN_LARGE_NUMBER_CHECK_SUBSEQUENCE_DIGITS_DIVISIBLE_8_1.py\n",
      "[Errno 2] No such file or directory: &#39;data/evaluation/geeks_for_geeks_successful_test_scripts/python/GIVEN_LARGE_NUMBER_CHECK_SUBSEQUENCE_DIGITS_DIVISIBLE_8_1.py&#39;\n",
      "for__1__HOSOYAS_TRIANGLE.py\n",
      "[Errno 2] No such file or directory: &#39;data/evaluation/geeks_for_geeks_successful_test_scripts/python/HOSOYAS_TRIANGLE.py&#39;\n",
      "for__1__SORT_1_N_SWAPPING_ADJACENT_ELEMENTS_1.py\n",
      "[Errno 2] No such file or directory: &#39;data/evaluation/geeks_for_geeks_successful_test_scripts/python/SORT_1_N_SWAPPING_ADJACENT_ELEMENTS_1.py&#39;\n",
      "if__0__A_PRODUCT_ARRAY_PUZZLE_1.py\n",
      "[Errno 2] No such file or directory: &#39;data/evaluation/geeks_for_geeks_successful_test_scripts/python/A_PRODUCT_ARRAY_PUZZLE_1.py&#39;\n",
      "while__0__NTH_NON_FIBONACCI_NUMBER.py\n",
      "for__0__LONGEST_REPEATING_AND_NON_OVERLAPPING_SUBSTRING.py\n",
      "for__0__CONVERTING_ONE_STRING_USING_APPEND_DELETE_LAST_OPERATIONS.py\n",
      "for__0__DYNAMIC_PROGRAMMING_SET_6_MIN_COST_PATH.py\n",
      "[Errno 2] No such file or directory: &#39;data/evaluation/geeks_for_geeks_successful_test_scripts/python/DYNAMIC_PROGRAMMING_SET_6_MIN_COST_PATH.py&#39;\n",
      "while__0__NEXT_POWER_OF_2_1.py\n",
      "while__0__FIND_FACTORIAL_NUMBERS_LESS_EQUAL_N.py\n",
      "[Errno 2] No such file or directory: &#39;data/evaluation/geeks_for_geeks_successful_test_scripts/python/FIND_FACTORIAL_NUMBERS_LESS_EQUAL_N.py&#39;\n",
      "for__0__CHECK_WHETHER_NUMBER_DUCK_NUMBER_NOT.py\n",
      "for__2__COUNT_NUMBER_WAYS_REACH_GIVEN_SCORE_GAME.py\n",
      "for__0__LONGEST_SUBARRAY_COUNT_1S_ONE_COUNT_0S.py\n",
      "for__2__MINIMUM_NUMBER_OF_OPERATIONS_TO_MOVE_ALL_UPPERCASE_CHARACTERS_BEFORE_ALL_LOWER_CASE_CHARACTERS.py\n",
      "[Errno 2] No such file or directory: &#39;data/evaluation/geeks_for_geeks_successful_test_scripts/python/MINIMUM_NUMBER_OF_OPERATIONS_TO_MOVE_ALL_UPPERCASE_CHARACTERS_BEFORE_ALL_LOWER_CASE_CHARACTERS.py&#39;\n",
      "for__0__MAXIMUM_POSSIBLE_SUM_WINDOW_ARRAY_ELEMENTS_WINDOW_ARRAY_UNIQUE.py\n",
      "if__0__HOW_TO_TURN_OFF_A_PARTICULAR_BIT_IN_A_NUMBER.py\n",
      "if__2__COUNT_POSSIBLE_PATHS_SOURCE_DESTINATION_EXACTLY_K_EDGES.py\n",
      "[Errno 2] No such file or directory: &#39;data/evaluation/geeks_for_geeks_successful_test_scripts/python/COUNT_POSSIBLE_PATHS_SOURCE_DESTINATION_EXACTLY_K_EDGES.py&#39;\n",
      "for__0__FIND_THE_MINIMUM_DISTANCE_BETWEEN_TWO_NUMBERS.py\n",
      "if__0__COUNT_SET_BITS_IN_AN_INTEGER_1.py\n",
      "for__0__FIND_WHETHER_AN_ARRAY_IS_SUBSET_OF_ANOTHER_ARRAY_SET_1.py\n",
      "if__1__DIRECTION_LAST_SQUARE_BLOCK.py\n",
      "[Errno 2] No such file or directory: &#39;data/evaluation/geeks_for_geeks_successful_test_scripts/python/DIRECTION_LAST_SQUARE_BLOCK.py&#39;\n",
      "for__0__CHECK_IF_A_GIVEN_ARRAY_CAN_REPRESENT_PREORDER_TRAVERSAL_OF_BINARY_SEARCH_TREE.py\n",
      "[Errno 2] No such file or directory: &#39;data/evaluation/geeks_for_geeks_successful_test_scripts/python/CHECK_IF_A_GIVEN_ARRAY_CAN_REPRESENT_PREORDER_TRAVERSAL_OF_BINARY_SEARCH_TREE.py&#39;\n",
      "for__0__MINIMUM_COST_SORT_MATRIX_NUMBERS_0_N2_1.py\n",
      "if__1__0_1_KNAPSACK_PROBLEM_DP_10.py\n",
      "[Errno 2] No such file or directory: &#39;data/evaluation/geeks_for_geeks_successful_test_scripts/python/0_1_KNAPSACK_PROBLEM_DP_10.py&#39;\n",
      "for__1__CLUSTERINGPARTITIONING_AN_ARRAY_SUCH_THAT_SUM_OF_SQUARE_DIFFERENCES_IS_MINIMUM_1.py\n",
      "[Errno 2] No such file or directory: &#39;data/evaluation/geeks_for_geeks_successful_test_scripts/python/CLUSTERINGPARTITIONING_AN_ARRAY_SUCH_THAT_SUM_OF_SQUARE_DIFFERENCES_IS_MINIMUM_1.py&#39;\n",
      "if__1__COUNT_NUMBER_OF_WAYS_TO_COVER_A_DISTANCE.py\n",
      "[Errno 2] No such file or directory: &#39;data/evaluation/geeks_for_geeks_successful_test_scripts/python/COUNT_NUMBER_OF_WAYS_TO_COVER_A_DISTANCE.py&#39;\n",
      "while__0__CHECK_OCCURRENCES_CHARACTER_APPEAR_TOGETHER.py\n",
      "for__0__SORT_1_N_SWAPPING_ADJACENT_ELEMENTS_1.py\n",
      "[Errno 2] No such file or directory: &#39;data/evaluation/geeks_for_geeks_successful_test_scripts/python/SORT_1_N_SWAPPING_ADJACENT_ELEMENTS_1.py&#39;\n",
      "for__3__FIND_DISTINCT_SUBSET_SUBSEQUENCE_SUMS_ARRAY.py\n",
      "[Errno 2] No such file or directory: &#39;data/evaluation/geeks_for_geeks_successful_test_scripts/python/FIND_DISTINCT_SUBSET_SUBSEQUENCE_SUMS_ARRAY.py&#39;\n",
      "for__0__MINIMIZE_THE_MAXIMUM_DIFFERENCE_BETWEEN_THE_HEIGHTS.py\n",
      "for__1__MAXIMUM_DECIMAL_VALUE_PATH_IN_A_BINARY_MATRIX_1.py\n",
      "[Errno 2] No such file or directory: &#39;data/evaluation/geeks_for_geeks_successful_test_scripts/python/MAXIMUM_DECIMAL_VALUE_PATH_IN_A_BINARY_MATRIX_1.py&#39;\n",
      "for__0__LINEAR_SEARCH.py\n",
      "[Errno 2] No such file or directory: &#39;data/evaluation/geeks_for_geeks_successful_test_scripts/python/LINEAR_SEARCH.py&#39;\n",
      "for__0__HOW_TO_PRINT_MAXIMUM_NUMBER_OF_A_USING_GIVEN_FOUR_KEYS.py\n",
      "for__0__LONGEST_EVEN_LENGTH_SUBSTRING_SUM_FIRST_SECOND_HALF_2.py\n",
      "[Errno 2] No such file or directory: &#39;data/evaluation/geeks_for_geeks_successful_test_scripts/python/LONGEST_EVEN_LENGTH_SUBSTRING_SUM_FIRST_SECOND_HALF_2.py&#39;\n",
      "for__2__COUNTS_PATHS_POINT_REACH_ORIGIN_1.py\n",
      "[Errno 2] No such file or directory: &#39;data/evaluation/geeks_for_geeks_successful_test_scripts/python/COUNTS_PATHS_POINT_REACH_ORIGIN_1.py&#39;\n",
      "if__3__WILDCARD_CHARACTER_MATCHING.py\n",
      "for__0__LEXICOGRAPHICAL_CONCATENATION_SUBSTRINGS_STRING.py\n",
      "for__0__CHECK_LARGE_NUMBER_DIVISIBLE_11_NOT.py\n",
      "[Errno 2] No such file or directory: &#39;data/evaluation/geeks_for_geeks_successful_test_scripts/python/CHECK_LARGE_NUMBER_DIVISIBLE_11_NOT.py&#39;\n",
      "for__0__FIND_NUMBER_OF_SOLUTIONS_OF_A_LINEAR_EQUATION_OF_N_VARIABLES.py\n",
      "[Errno 2] No such file or directory: &#39;data/evaluation/geeks_for_geeks_successful_test_scripts/python/FIND_NUMBER_OF_SOLUTIONS_OF_A_LINEAR_EQUATION_OF_N_VARIABLES.py&#39;\n",
      "for__0__MINIMUM_OPERATIONS_MAKE_GCD_ARRAY_MULTIPLE_K.py\n",
      "for__0__MEDIAN_OF_TWO_SORTED_ARRAYS.py\n",
      "for__0__FIND_N_TH_ELEMENT_FROM_STERNS_DIATOMIC_SERIES.py\n",
      "if__0__FRIENDS_PAIRING_PROBLEM_2.py\n",
      "if__2__COUNT_DERANGEMENTS_PERMUTATION_SUCH_THAT_NO_ELEMENT_APPEARS_IN_ITS_ORIGINAL_POSITION.py\n",
      "[Errno 2] No such file or directory: &#39;data/evaluation/geeks_for_geeks_successful_test_scripts/python/COUNT_DERANGEMENTS_PERMUTATION_SUCH_THAT_NO_ELEMENT_APPEARS_IN_ITS_ORIGINAL_POSITION.py&#39;\n",
      "for__0__FIND_SMALLEST_VALUE_REPRESENTED_SUM_SUBSET_GIVEN_ARRAY.py\n",
      "if__0__LONGEST_COMMON_SUBSEQUENCE.py\n",
      "[Errno 2] No such file or directory: &#39;data/evaluation/geeks_for_geeks_successful_test_scripts/python/LONGEST_COMMON_SUBSEQUENCE.py&#39;\n",
      "for__1__MIRROR_CHARACTERS_STRING.py\n",
      "[Errno 2] No such file or directory: &#39;data/evaluation/geeks_for_geeks_successful_test_scripts/python/MIRROR_CHARACTERS_STRING.py&#39;\n",
      "for__0__COUNT_SINGLE_NODE_ISOLATED_SUB_GRAPHS_DISCONNECTED_GRAPH.py\n",
      "[Errno 2] No such file or directory: &#39;data/evaluation/geeks_for_geeks_successful_test_scripts/python/COUNT_SINGLE_NODE_ISOLATED_SUB_GRAPHS_DISCONNECTED_GRAPH.py&#39;\n",
      "for__0__STACK_SET_3_REVERSE_STRING_USING_STACK.py\n",
      "for__1__CHECK_CHARACTERS_GIVEN_STRING_CAN_REARRANGED_FORM_PALINDROME.py\n",
      "[Errno 2] No such file or directory: &#39;data/evaluation/geeks_for_geeks_successful_test_scripts/python/CHECK_CHARACTERS_GIVEN_STRING_CAN_REARRANGED_FORM_PALINDROME.py&#39;\n",
      "for__0__MAXIMUM_SUM_2_X_N_GRID_NO_TWO_ELEMENTS_ADJACENT.py\n",
      "for__1__COUNTS_PATHS_POINT_REACH_ORIGIN_1.py\n",
      "[Errno 2] No such file or directory: &#39;data/evaluation/geeks_for_geeks_successful_test_scripts/python/COUNTS_PATHS_POINT_REACH_ORIGIN_1.py&#39;\n",
      "while__0__REVERSE_STRING_WITHOUT_USING_ANY_TEMPORARY_VARIABLE.py\n",
      "[Errno 2] No such file or directory: &#39;data/evaluation/geeks_for_geeks_successful_test_scripts/python/REVERSE_STRING_WITHOUT_USING_ANY_TEMPORARY_VARIABLE.py&#39;\n",
      "for__0__CYCLE_SORT.py\n",
      "[Errno 2] No such file or directory: &#39;data/evaluation/geeks_for_geeks_successful_test_scripts/python/CYCLE_SORT.py&#39;\n",
      "for__0__DYNAMIC_PROGRAMMING_SET_36_CUT_A_ROPE_TO_MAXIMIZE_PRODUCT.py\n",
      "[Errno 2] No such file or directory: &#39;data/evaluation/geeks_for_geeks_successful_test_scripts/python/DYNAMIC_PROGRAMMING_SET_36_CUT_A_ROPE_TO_MAXIMIZE_PRODUCT.py&#39;\n",
      "for__1__K_TH_SMALLEST_ELEMENT_REMOVING_INTEGERS_NATURAL_NUMBERS.py\n",
      "[Errno 2] No such file or directory: &#39;data/evaluation/geeks_for_geeks_successful_test_scripts/python/K_TH_SMALLEST_ELEMENT_REMOVING_INTEGERS_NATURAL_NUMBERS.py&#39;\n",
      "if__2__CHECK_WHETHER_LARGE_NUMBER_DIVISIBLE_7.py\n",
      "[Errno 2] No such file or directory: &#39;data/evaluation/geeks_for_geeks_successful_test_scripts/python/CHECK_WHETHER_LARGE_NUMBER_DIVISIBLE_7.py&#39;\n",
      "if__0__NUMBER_OF_TRIANGLES_IN_DIRECTED_AND_UNDIRECTED_GRAPHS.py\n",
      "[Errno 2] No such file or directory: &#39;data/evaluation/geeks_for_geeks_successful_test_scripts/python/NUMBER_OF_TRIANGLES_IN_DIRECTED_AND_UNDIRECTED_GRAPHS.py&#39;\n",
      "for__0__SCHEDULE_ELEVATOR_TO_REDUCE_THE_TOTAL_TIME_TAKEN.py\n",
      "[Errno 2] No such file or directory: &#39;data/evaluation/geeks_for_geeks_successful_test_scripts/python/SCHEDULE_ELEVATOR_TO_REDUCE_THE_TOTAL_TIME_TAKEN.py&#39;\n",
      "for__0__MINIMUM_SUM_PRODUCT_TWO_ARRAYS.py\n",
      "[Errno 2] No such file or directory: &#39;data/evaluation/geeks_for_geeks_successful_test_scripts/python/MINIMUM_SUM_PRODUCT_TWO_ARRAYS.py&#39;\n",
      "for__0__LONGEST_COMMON_INCREASING_SUBSEQUENCE_LCS_LIS.py\n",
      "for__0__COUNTS_PATHS_POINT_REACH_ORIGIN_1.py\n",
      "[Errno 2] No such file or directory: &#39;data/evaluation/geeks_for_geeks_successful_test_scripts/python/COUNTS_PATHS_POINT_REACH_ORIGIN_1.py&#39;\n",
      "if__1__CHECK_VALID_SEQUENCE_DIVISIBLE_M.py\n",
      "for__1__C_PROGRAM_FIND_SECOND_FREQUENT_CHARACTER.py\n",
      "for__0__DYNAMIC_PROGRAMMING_SUBSET_SUM_PROBLEM_1.py\n",
      "[Errno 2] No such file or directory: &#39;data/evaluation/geeks_for_geeks_successful_test_scripts/python/DYNAMIC_PROGRAMMING_SUBSET_SUM_PROBLEM_1.py&#39;\n",
      "for__1__MAXIMUM_LENGTH_SUBSEQUENCE_DIFFERENCE_ADJACENT_ELEMENTS_EITHER_0_1.py\n",
      "for__1__FIND_MAXIMUM_DOT_PRODUCT_TWO_ARRAYS_INSERTION_0S.py\n",
      "if__0__TAIL_RECURSION_FIBONACCI.py\n",
      "if__1__SHORTEST_PATH_EXACTLY_K_EDGES_DIRECTED_WEIGHTED_GRAPH.py\n",
      "[Errno 2] No such file or directory: &#39;data/evaluation/geeks_for_geeks_successful_test_scripts/python/SHORTEST_PATH_EXACTLY_K_EDGES_DIRECTED_WEIGHTED_GRAPH.py&#39;\n",
      "for__0__MAXIMUM_SUM_BITONIC_SUBARRAY.py\n",
      "for__0__MINIMUM_INSERTIONS_SORT_ARRAY.py\n",
      "for__0__GIVEN_BINARY_STRING_COUNT_NUMBER_SUBSTRINGS_START_END_1_1.py\n",
      "[Errno 2] No such file or directory: &#39;data/evaluation/geeks_for_geeks_successful_test_scripts/python/GIVEN_BINARY_STRING_COUNT_NUMBER_SUBSTRINGS_START_END_1_1.py&#39;\n",
      "for__0__PROGRAM_NTH_CATALAN_NUMBER.py\n",
      "[Errno 2] No such file or directory: &#39;data/evaluation/geeks_for_geeks_successful_test_scripts/python/PROGRAM_NTH_CATALAN_NUMBER.py&#39;\n",
      "for__0__SHUFFLE_A_GIVEN_ARRAY.py\n",
      "if__2__RECURSIVE_PROGRAM_PRIME_NUMBER.py\n",
      "[Errno 2] No such file or directory: &#39;data/evaluation/geeks_for_geeks_successful_test_scripts/python/RECURSIVE_PROGRAM_PRIME_NUMBER.py&#39;\n"
     ]
    }
   ],
   "source": [
    "# Insert j2py tests\n",
    "import subprocess\n",
    "import IPython\n",
    "import re\n",
    "for entry in os.scandir('experiment_jp_test/j2pyrawpy'):\n",
    "    desc = entry.name.split('__')[2]\n",
    "    print(entry.name)\n",
    "\n",
    "    with open(entry.path) as f:\n",
    "        lines = f.readlines()\n",
    "        ind = int()\n",
    "        for item in lines:\n",
    "            if item.startswith('        \\\"\\\"\\\" generated source for method '):\n",
    "                ind = lines.index(item) - 1\n",
    "                break\n",
    "        data = [item.replace('    ', '', 1) for item in lines[ind :]]\n",
    "        data[0] = re.sub(\"def.*\\(cls, \", \"def f_filled (\", data[0])\n",
    "        out_func = ''.join(data)\n",
    "\n",
    "    try:\n",
    "        with open('data/evaluation/geeks_for_geeks_successful_test_scripts/python/' + desc) as f:\n",
    "            lines = f.readlines()\n",
    "            lines.insert(lines.index('#TOFILL\\n') + 1, out_func + '\\n')\n",
    "\n",
    "        with open('experiment_jp_test/j2pytests/' + entry.name, 'w') as f:\n",
    "            f.write(''.join(lines))\n",
    "    except FileNotFoundError as e:\n",
    "        print(e)\n",
    "        continue"
   ]
  },
  {
   "cell_type": "code",
   "execution_count": 43,
   "metadata": {
    "tags": []
   },
   "outputs": [
    {
     "data": {
      "text/plain": [
       "[&#39;def f_filled (W, wt, val, n):\\n&#39;,\n",
       " &#39;    &quot;&quot;&quot; generated source for method knapSack &quot;&quot;&quot;\\n&#39;,\n",
       " &#39;    i = int()\\n&#39;,\n",
       " &#39;    w = int()\\n&#39;,\n",
       " &#39;    K = [None]*n + 1\\n&#39;,\n",
       " &#39;    return K[n][W]\\n&#39;,\n",
       " &#39;\\n&#39;]"
      ]
     },
     "execution_count": 43,
     "metadata": {},
     "output_type": "execute_result"
    }
   ],
   "source": [
    "import re\n",
    "with open('output_code.py') as f:\n",
    "    lines = f.readlines()\n",
    "    data = [item.replace('    ', '', 1) for item in lines[lines.index('    @classmethod\\n') + 1 : ]]\n",
    "    data[0] = re.sub(\"def.*\\(cls, \", \"def f_filled (\", data[0])\n",
    "data"
   ]
  },
  {
   "cell_type": "code",
   "execution_count": 49,
   "metadata": {
    "tags": []
   },
   "outputs": [
    {
     "output_type": "execute_result",
     "data": {
      "text/plain": "                                                   key mutator number  \\\n0    MINIMUM_TIME_TO_FINISH_TASKS_WITHOUT_SKIPPING_...     for      0   \n1           FIND_MAXIMUM_PRODUCT_OF_A_TRIPLET_IN_ARRAY      if      0   \n2                         MAXIMUM_PRODUCT_SUBSET_ARRAY      if      1   \n3                          FIND_SUM_ODD_FACTORS_NUMBER      if      0   \n4    WRITE_ONE_LINE_C_FUNCTION_TO_FIND_WHETHER_A_NO...   while      0   \n..                                                 ...     ...    ...   \n202                    NUMBER_N_DIGIT_STEPPING_NUMBERS     for      0   \n203  MINIMUM_COST_MAKE_ARRAY_SIZE_1_REMOVING_LARGER...     for      0   \n204                      FIND_REPETITIVE_ELEMENT_1_N_1     for      0   \n205  K_TH_MISSING_ELEMENT_INCREASING_SEQUENCE_NOT_P...     for      1   \n206                                 FIBONACCI_MODULO_P   while      0   \n\n     computational accuracy  \n0                       0.0  \n1                       0.1  \n2                       0.3  \n3                       0.1  \n4                       0.4  \n..                      ...  \n202                     0.0  \n203                     0.7  \n204                     0.0  \n205                     0.7  \n206                     0.0  \n\n[207 rows x 4 columns]",
      "text/html": "<div>\n<style scoped>\n    .dataframe tbody tr th:only-of-type {\n        vertical-align: middle;\n    }\n\n    .dataframe tbody tr th {\n        vertical-align: top;\n    }\n\n    .dataframe thead th {\n        text-align: right;\n    }\n</style>\n<table border=\"1\" class=\"dataframe\">\n  <thead>\n    <tr style=\"text-align: right;\">\n      <th></th>\n      <th>key</th>\n      <th>mutator</th>\n      <th>number</th>\n      <th>computational accuracy</th>\n    </tr>\n  </thead>\n  <tbody>\n    <tr>\n      <th>0</th>\n      <td>MINIMUM_TIME_TO_FINISH_TASKS_WITHOUT_SKIPPING_...</td>\n      <td>for</td>\n      <td>0</td>\n      <td>0.0</td>\n    </tr>\n    <tr>\n      <th>1</th>\n      <td>FIND_MAXIMUM_PRODUCT_OF_A_TRIPLET_IN_ARRAY</td>\n      <td>if</td>\n      <td>0</td>\n      <td>0.1</td>\n    </tr>\n    <tr>\n      <th>2</th>\n      <td>MAXIMUM_PRODUCT_SUBSET_ARRAY</td>\n      <td>if</td>\n      <td>1</td>\n      <td>0.3</td>\n    </tr>\n    <tr>\n      <th>3</th>\n      <td>FIND_SUM_ODD_FACTORS_NUMBER</td>\n      <td>if</td>\n      <td>0</td>\n      <td>0.1</td>\n    </tr>\n    <tr>\n      <th>4</th>\n      <td>WRITE_ONE_LINE_C_FUNCTION_TO_FIND_WHETHER_A_NO...</td>\n      <td>while</td>\n      <td>0</td>\n      <td>0.4</td>\n    </tr>\n    <tr>\n      <th>...</th>\n      <td>...</td>\n      <td>...</td>\n      <td>...</td>\n      <td>...</td>\n    </tr>\n    <tr>\n      <th>202</th>\n      <td>NUMBER_N_DIGIT_STEPPING_NUMBERS</td>\n      <td>for</td>\n      <td>0</td>\n      <td>0.0</td>\n    </tr>\n    <tr>\n      <th>203</th>\n      <td>MINIMUM_COST_MAKE_ARRAY_SIZE_1_REMOVING_LARGER...</td>\n      <td>for</td>\n      <td>0</td>\n      <td>0.7</td>\n    </tr>\n    <tr>\n      <th>204</th>\n      <td>FIND_REPETITIVE_ELEMENT_1_N_1</td>\n      <td>for</td>\n      <td>0</td>\n      <td>0.0</td>\n    </tr>\n    <tr>\n      <th>205</th>\n      <td>K_TH_MISSING_ELEMENT_INCREASING_SEQUENCE_NOT_P...</td>\n      <td>for</td>\n      <td>1</td>\n      <td>0.7</td>\n    </tr>\n    <tr>\n      <th>206</th>\n      <td>FIBONACCI_MODULO_P</td>\n      <td>while</td>\n      <td>0</td>\n      <td>0.0</td>\n    </tr>\n  </tbody>\n</table>\n<p>207 rows × 4 columns</p>\n</div>"
     },
     "metadata": {},
     "execution_count": 49
    }
   ],
   "source": [
    "import subprocess\n",
    "import pandas as pd\n",
    "\n",
    "blocklist = ['for__0__MOVE_ZEROES_END_ARRAY.py', 'if__0__CHECK_IF_A_NUMBER_IS_POWER_OF_ANOTHER_NUMBER.py', 'if__1__MODULUS_TWO_FLOAT_DOUBLE_NUMBERS.py', 'if__0__ALTERNATIVE_SORTING.py', 'if__2__MODULUS_TWO_FLOAT_DOUBLE_NUMBERS.py', 'while__0__COUNT_FACTORIAL_NUMBERS_IN_A_GIVEN_RANGE.py', 'while__1__K_TH_ELEMENT_TWO_SORTED_ARRAYS.py']\n",
    "d = {'key': [], 'mutator': [], 'number': [], 'computational accuracy': []}\n",
    "\n",
    "for entry in os.scandir('experiment_jp_valid/tests'):\n",
    "    if entry.name not in blocklist:\n",
    "        print(entry.name)\n",
    "        out = subprocess.run(['python3', entry.path], capture_output=True).stdout\n",
    "        out = out.decode()\n",
    "        if out:\n",
    "            if out[0] == '#':\n",
    "                unkilled = float(out.split(', ')[0].split(' ')[1])\n",
    "                total = float(out.split(', ')[1].split('\\n')[0])\n",
    "                \n",
    "                d['key'].append(entry.name.split('.')[0].split('__')[2])\n",
    "                d['mutator'].append(entry.name.split('.')[0].split('__')[0])\n",
    "                d['number'].append(entry.name.split('.')[0].split('__')[1])\n",
    "                d['computational accuracy'].append(unkilled / total)\n",
    "\n",
    "        IPython.display.clear_output()\n",
    "\n",
    "df2 = pd.DataFrame(data=d)\n",
    "df2"
   ]
  },
  {
   "cell_type": "code",
   "execution_count": 51,
   "metadata": {},
   "outputs": [],
   "source": [
    "df3 = pd.concat([df, df2])\n",
    "df3.to_csv('individual_mutants_result.csv')"
   ]
  },
  {
   "cell_type": "code",
   "execution_count": null,
   "metadata": {},
   "outputs": [],
   "source": []
  }
 ],
 "metadata": {
  "kernelspec": {
   "display_name": "Python 3",
   "language": "python",
   "name": "python3"
  },
  "language_info": {
   "codemirror_mode": {
    "name": "ipython",
    "version": 3
   },
   "file_extension": ".py",
   "mimetype": "text/x-python",
   "name": "python",
   "nbconvert_exporter": "python",
   "pygments_lexer": "ipython3",
   "version": "3.7.7-final"
  }
 },
 "nbformat": 4,
 "nbformat_minor": 2
}