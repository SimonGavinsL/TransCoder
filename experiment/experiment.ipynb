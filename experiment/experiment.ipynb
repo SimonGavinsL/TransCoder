{
 "cells": [
  {
   "cell_type": "code",
   "execution_count": null,
   "metadata": {},
   "outputs": [],
   "source": [
    "import subprocess\n",
    "import xml.etree.ElementTree as ET"
   ]
  },
  {
   "cell_type": "code",
   "execution_count": null,
   "metadata": {},
   "outputs": [],
   "source": [
    "# Generate original files\n",
    "with open('data/TransCoder_tokenized_test_set_functions/test.java.shuf.valid.tok', 'r') as f:\n",
    "    data = f.readlines()\n",
    "\n",
    "for item in data:\n",
    "    k_and_v = item.split(' | ', 1)\n",
    "    k, v = k_and_v[0], k_and_v[1]\n",
    "    with open('java-python/test/original/' + k + '.java', 'w') as f:\n",
    "        f.write(v)"
   ]
  },
  {
   "cell_type": "code",
   "execution_count": null,
   "metadata": {
    "tags": []
   },
   "outputs": [],
   "source": [
    "# Generate input XML files\n",
    "import IPython\n",
    "for entry in os.scandir('experiment/java-python/test/original'):\n",
    "    print(entry.name)\n",
    "    # Read Java file and srcML it to XML\n",
    "    with open('experiment/java-python/test/xml_input/' + entry.name.split('.')[0] + '.xml', 'w+') as f:\n",
    "        subprocess.run(['srcml', entry.path], stdout=f)\n",
    "    IPython.display.clear_output()"
   ]
  },
  {
   "cell_type": "code",
   "execution_count": null,
   "metadata": {},
   "outputs": [],
   "source": [
    "# Transformation\n",
    "for entry in os.scandir('experiment/java-python/test/xml_input'):\n",
    "    # Parse into AST\n",
    "    try:\n",
    "        tree = ET.parse(entry.path)\n",
    "    except Exception as e:\n",
    "        print(entry.name)\n",
    "        print(e)\n",
    "        continue\n",
    "    root = tree.getroot()\n",
    "    ns = {'src': 'http://www.srcML.org/srcML/src'}\n",
    "\n",
    "    num_do, num_for, num_if, num_switch, num_while = 0, 0, 0, 0, 0\n",
    "\n",
    "    for elem in root.iter():\n",
    "        for item in elem.findall('src:do', ns):\n",
    "            elem.remove(item)\n",
    "            tree.write('experiment/java-python/test/xml_output/do__' + str(num_do) + '__' + entry.name)\n",
    "            num_do += 1\n",
    "\n",
    "        for item in elem.findall('src:for', ns):\n",
    "            elem.remove(item)\n",
    "            tree.write('experiment/java-python/test/xml_output/for__' + str(num_for) + '__' + entry.name)\n",
    "            num_for += 1\n",
    "        \n",
    "        for item in elem.findall('src:if_stmt', ns):\n",
    "            elem.remove(item)\n",
    "            tree.write('experiment/java-python/test/xml_output/if__' + str(num_if) + '__' + entry.name)\n",
    "            num_if += 1\n",
    "\n",
    "        for item in elem.findall('src:switch', ns):\n",
    "            elem.remove(item)\n",
    "            tree.write('experiment/java-python/test/xml_output/switch__' + str(num_switch) + '__' + entry.name)\n",
    "            num_switch += 1\n",
    "    \n",
    "        for item in elem.findall('src:while', ns):\n",
    "            elem.remove(item)\n",
    "            tree.write('experiment/java-python/test/xml_output/while__' + str(num_while) + '__' + entry.name)\n",
    "            num_while += 1"
   ]
  },
  {
   "cell_type": "code",
   "execution_count": null,
   "metadata": {},
   "outputs": [],
   "source": [
    "# Output XML files to Java output\n",
    "for entry in os.scandir('experiment/java-python/test/xml_output'):\n",
    "    with open('experiment/java-python/test/mutants/' + entry.name.split('.')[0] + '.java', 'w+') as f:\n",
    "        subprocess.run(['srcml', entry.path], stdout=f)"
   ]
  },
  {
   "cell_type": "code",
   "execution_count": null,
   "metadata": {},
   "outputs": [],
   "source": [
    "# Translate"
   ]
  },
  {
   "cell_type": "code",
   "execution_count": null,
   "metadata": {
    "tags": []
   },
   "outputs": [],
   "source": [
    "import IPython\n",
    "import pandas as pd\n",
    "import subprocess\n",
    "\n",
    "d = {'key': [], 'Computational accuracy': []}\n",
    "# blocklist = ['for__0__MOVE_ZEROES_END_ARRAY.py', 'if__0__CHECK_IF_A_NUMBER_IS_POWER_OF_ANOTHER_NUMBER.py', 'if__1__MODULUS_TWO_FLOAT_DOUBLE_NUMBERS.py', 'if__0__ALTERNATIVE_SORTING.py', 'if__2__MODULUS_TWO_FLOAT_DOUBLE_NUMBERS.py', 'while__0__COUNT_FACTORIAL_NUMBERS_IN_A_GIVEN_RANGE.py', 'while__1__K_TH_ELEMENT_TWO_SORTED_ARRAYS.py']\n",
    "blocklist = ['SUM_K_TH_GROUP_ODD_POSITIVE_NUMBERS.py', 'ALTERNATIVE_SORTING.py', 'MINIMUM_LENGTH_SUBARRAY_SUM_GREATER_GIVEN_VALUE.py', 'MOVE_ZEROES_END_ARRAY.py', 'NUMBER_IS_DIVISIBLE_BY_29_OR_NOT.py', 'PRINT_WORDS_STRING_REVERSE_ORDER.py', 'NUMBER_TRIANGLES_N_MOVES_1.py', 'MINIMUM_LENGTH_SUBARRAY_SUM_GREATER_GIVEN_VALUE_1.py']\n",
    "\n",
    "for entry in os.scandir('experiment/java-python/test/tests'):\n",
    "    if entry.name not in blocklist:\n",
    "        print(entry.name)\n",
    "        out = subprocess.run(['python3', entry.path], capture_output=True).stdout\n",
    "        out = out.decode()\n",
    "        if out:\n",
    "            if out[0] == '#':\n",
    "                unkilled = float(out.split(', ')[0].split(' ')[1])\n",
    "                total = float(out.split(', ')[1].split('\\n')[0])\n",
    "                # mutation_score = (total - unkilled) / total\n",
    "                mutation_score = unkilled / total\n",
    "                \n",
    "                d['key'].append(entry.name.split('.')[0])\n",
    "                d['Computational accuracy'].append(mutation_score)\n",
    "\n",
    "        IPython.display.clear_output()\n",
    "\n",
    "df = pd.DataFrame(data=d)\n",
    "df"
   ]
  },
  {
   "cell_type": "code",
   "execution_count": null,
   "metadata": {},
   "outputs": [],
   "source": [
    "df3 = pd.concat([df, df2])\n",
    "df3.describe()"
   ]
  },
  {
   "cell_type": "code",
   "execution_count": null,
   "metadata": {},
   "outputs": [],
   "source": [
    "df3.plot.hist()"
   ]
  },
  {
   "cell_type": "code",
   "execution_count": null,
   "metadata": {},
   "outputs": [],
   "source": [
    "df3.to_csv('experiment/java-python/result/original.csv')"
   ]
  },
  {
   "cell_type": "code",
   "execution_count": null,
   "metadata": {},
   "outputs": [],
   "source": [
    "# class wrapper for j2py translation\n",
    "for entry in os.scandir('experiment/java-python/test/mutants'):\n",
    "    with open(entry.path) as f:\n",
    "        with open('experiment/java-python/j2pyraw/' + entry.name, 'w') as fi:\n",
    "            fi.write('class X { ' + f.readline() + ' }')"
   ]
  },
  {
   "cell_type": "code",
   "execution_count": null,
   "metadata": {
    "tags": []
   },
   "outputs": [],
   "source": [
    "\n",
    "import subprocess\n",
    "import IPython\n",
    "for entry in os.scandir('experiment/java-python/j2pyraw'):\n",
    "    print(entry.name)\n",
    "    subprocess.run(['j2py', entry.path, 'experiment/java-python/j2pyrawpy/' + entry.name.split('.')[0] + '.py'])\n",
    "    IPython.display.clear_output()"
   ]
  },
  {
   "cell_type": "code",
   "execution_count": null,
   "metadata": {
    "tags": [
     "outputPrepend"
    ]
   },
   "outputs": [],
   "source": [
    "# Insert j2py tests\n",
    "import subprocess\n",
    "import IPython\n",
    "import re\n",
    "for entry in os.scandir('experiment/java-python/j2pyrawpy'):\n",
    "    desc = entry.name.split('__')[2]\n",
    "    print(entry.name)\n",
    "\n",
    "    with open(entry.path) as f:\n",
    "        lines = f.readlines()\n",
    "        ind = int()\n",
    "        for item in lines:\n",
    "            if item.startswith('        \\\"\\\"\\\" generated source for method '):\n",
    "                ind = lines.index(item) - 1\n",
    "                break\n",
    "        data = [item.replace('    ', '', 1) for item in lines[ind :]]\n",
    "        data[0] = re.sub(\"def.*\\(cls, \", \"def f_filled (\", data[0])\n",
    "        out_func = ''.join(data)\n",
    "\n",
    "    try:\n",
    "        with open('data/evaluation/geeks_for_geeks_successful_test_scripts/python/' + desc) as f:\n",
    "            lines = f.readlines()\n",
    "            lines.insert(lines.index('#TOFILL\\n') + 1, out_func + '\\n')\n",
    "\n",
    "        with open('experiment/java-python/j2pytests/' + entry.name, 'w') as f:\n",
    "            f.write(''.join(lines))\n",
    "    except FileNotFoundError as e:\n",
    "        print(e)\n",
    "        continue"
   ]
  },
  {
   "cell_type": "code",
   "execution_count": null,
   "metadata": {
    "tags": []
   },
   "outputs": [],
   "source": [
    "import subprocess\n",
    "import pandas as pd\n",
    "import IPython\n",
    "\n",
    "blocklist = ['for__0__MOVE_ZEROES_END_ARRAY.py', 'if__0__CHECK_IF_A_NUMBER_IS_POWER_OF_ANOTHER_NUMBER.py', 'if__1__MODULUS_TWO_FLOAT_DOUBLE_NUMBERS.py', 'if__0__ALTERNATIVE_SORTING.py', 'if__2__MODULUS_TWO_FLOAT_DOUBLE_NUMBERS.py', 'while__0__COUNT_FACTORIAL_NUMBERS_IN_A_GIVEN_RANGE.py', 'while__1__K_TH_ELEMENT_TWO_SORTED_ARRAYS.py']\n",
    "d = {'key': [], 'mutator': [], 'number': [], 'computational accuracy': []}\n",
    "\n",
    "for entry in os.scandir('experiment/java-python/test/tests'):\n",
    "    if entry.name not in blocklist:\n",
    "        print(entry.name)\n",
    "        out = subprocess.run(['python3', entry.path], capture_output=True).stdout\n",
    "        out = out.decode()\n",
    "        if out:\n",
    "            if out[0] == '#':\n",
    "                unkilled = float(out.split(', ')[0].split(' ')[1])\n",
    "                total = float(out.split(', ')[1].split('\\n')[0])\n",
    "                \n",
    "                d['key'].append(entry.name.split('.')[0].split('__')[2])\n",
    "                d['mutator'].append(entry.name.split('.')[0].split('__')[0])\n",
    "                d['number'].append(entry.name.split('.')[0].split('__')[1])\n",
    "                d['computational accuracy'].append(unkilled / total)\n",
    "\n",
    "        IPython.display.clear_output()\n",
    "\n",
    "df = pd.DataFrame(data=d)\n",
    "df"
   ]
  },
  {
   "cell_type": "code",
   "execution_count": null,
   "metadata": {},
   "outputs": [],
   "source": [
    "df3 = pd.concat([df, df2])\n",
    "df3.to_csv('experiment/java-python/result/individual_mutants_result.csv')"
   ]
  },
  {
   "cell_type": "code",
   "execution_count": null,
   "metadata": {},
   "outputs": [],
   "source": []
  }
 ],
 "metadata": {
  "kernelspec": {
   "display_name": "Python 3",
   "language": "python",
   "name": "python3"
  },
  "language_info": {
   "codemirror_mode": {
    "name": "ipython",
    "version": 3
   },
   "file_extension": ".py",
   "mimetype": "text/x-python",
   "name": "python",
   "nbconvert_exporter": "python",
   "pygments_lexer": "ipython3",
   "version": "3.8.3-final"
  }
 },
 "nbformat": 4,
 "nbformat_minor": 2
}